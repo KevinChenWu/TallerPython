{
  "nbformat": 4,
  "nbformat_minor": 0,
  "metadata": {
    "colab": {
      "name": "Sesión08.ipynb",
      "provenance": [],
      "collapsed_sections": [],
      "toc_visible": true
    },
    "kernelspec": {
      "name": "python3",
      "display_name": "Python 3"
    },
    "language_info": {
      "name": "python"
    }
  },
  "cells": [
    {
      "cell_type": "markdown",
      "source": [
        "#Sesión 8 de Python: Recursividad"
      ],
      "metadata": {
        "id": "FAt45_-k8O0q"
      }
    },
    {
      "cell_type": "markdown",
      "metadata": {
        "id": "xFXnyyUT5K1D"
      },
      "source": [
        "## **¿Qué es la recursividad?**\n",
        "---\n",
        "La recursividad, al menos en programación, es cuando una función se llama sí misma. Esto puede parecer como una receta para crear un ciclo infinito, pero abordando con cuidado es posible crear algoritmos sumamente poderosos. Hay tres factores importantes a considerar antes de plantear una función recursiva:\n",
        " \n",
        "*   ¿Cuál es el resultado final deseado?\n",
        "*   ¿Cuáles son las condiciones de finalización para llegar a este resultado?\n",
        "*   ¿Cuáles son las condiciones iniciales de esta función?\n",
        "\n"
      ]
    },
    {
      "cell_type": "markdown",
      "metadata": {
        "id": "A6FIpC_3ZQT2"
      },
      "source": [
        "## **Ejemplo 1: La biblioteca de Alice**\n",
        "---\n",
        "Alice es una lectora ávida desde muy temprana edad, a partir de sus 11 años, ella empezó a disfrutar de géneros literarios como la novela y la poesía. ¿Cuántas páginas habré leído durante toda mi vida? —se preguntaba Alice—, acto seguido, se dirige a su biblioteca y decide listar todos los libros que ha leído durante su vida y colocar al lado de cada uno la cantidad de páginas que tienen. Sin embargo, dada la cantidad numerosa de obras literarias que ha leído, la tarea de contabilizar la cantidad de páginas que ha leído durante toda su vida no le resulta muy amena.\n",
        "\n",
        "Implemente un programa que solicite la cantidad de libros leídos por Alice y luego solicite la cantidad de páginas que tiene cada libro. Imprima la cantidad total de páginas que ha leído Alice en toda su vida."
      ]
    },
    {
      "cell_type": "markdown",
      "metadata": {
        "id": "sCPSOqxtZwh_"
      },
      "source": [
        "### **Solución recursiva**"
      ]
    },
    {
      "cell_type": "code",
      "metadata": {
        "id": "jZgF59j8Z8oW"
      },
      "source": [
        "def contar_paginas_R(lista_libros):\n",
        "  if len(lista_libros) == 1:\n",
        "    return lista_libros[0]\n",
        "  else:\n",
        "    return lista_libros[0] + contar_paginas_R(lista_libros[1:len(lista_libros)])\n"
      ],
      "execution_count": 1,
      "outputs": []
    },
    {
      "cell_type": "markdown",
      "metadata": {
        "id": "9E0GsvIVZlzb"
      },
      "source": [
        "### **Solución iterativa**"
      ]
    },
    {
      "cell_type": "code",
      "metadata": {
        "id": "oMnpCFfWZz6W",
        "colab": {
          "base_uri": "https://localhost:8080/"
        },
        "outputId": "de6d4446-9c2e-4bb4-93e8-2ecd656c1cae"
      },
      "source": [
        "def pedir_numero(mensaje_solicitud):\n",
        "  entrada_valida = False\n",
        "  while not entrada_valida:\n",
        "    try:\n",
        "      numero = int(input(mensaje_solicitud))\n",
        "      if numero > 0:\n",
        "        entrada_valida = True\n",
        "      else:\n",
        "        print(\"Error: Debe ingresar un número entero positivo. Por favor, intente de nuevo.\")\n",
        "    except:\n",
        "      print(\"Error: Debe ingresar un número entero positivo. Por favor, intente de nuevo.\")\n",
        "  return numero\n",
        "\n",
        "def contar_paginas(lista_libros):\n",
        "  total_paginas_leidas = 0\n",
        "  for libro in lista_libros:\n",
        "    total_paginas_leidas += libro\n",
        "  return total_paginas_leidas\n",
        "\n",
        "def ejecutar():\n",
        "  cantidad_libros = pedir_numero(\"Ingrese la cantidad de libros que ha leído: \")\n",
        "  lista_libros = []\n",
        "  for libro in range(0, cantidad_libros):\n",
        "    cantidad_paginas = pedir_numero(f\"Ingrese la cantidad de páginas del libro #{libro+1}: \")\n",
        "    lista_libros.append(cantidad_paginas)\n",
        "  total_paginas = contar_paginas(lista_libros) \n",
        "  total_paginas_R = contar_paginas_R(lista_libros) \n",
        "  print(f\"Alice ha leído un total de {total_paginas} páginas.\")\n",
        "  print(f\"Alice ha leído un total de {total_paginas_R} páginas.\")\n",
        "\n",
        "ejecutar()"
      ],
      "execution_count": 2,
      "outputs": [
        {
          "output_type": "stream",
          "name": "stdout",
          "text": [
            "Ingrese la cantidad de libros que ha leído: 5\n",
            "Ingrese la cantidad de páginas del libro #1: 54\n",
            "Ingrese la cantidad de páginas del libro #2: 351\n",
            "Ingrese la cantidad de páginas del libro #3: 564\n",
            "Ingrese la cantidad de páginas del libro #4: 3254\n",
            "Ingrese la cantidad de páginas del libro #5: 86\n",
            "Alice ha leído un total de 4309 páginas.\n",
            "Alice ha leído un total de 4309 páginas.\n"
          ]
        }
      ]
    },
    {
      "cell_type": "markdown",
      "metadata": {
        "id": "VKRPoQ3h60-d"
      },
      "source": [
        "## **Ejemplo 2: Torres de Hanoi**\n",
        "---\n",
        "\n",
        "Se recomienda ver el siguiente video sobre Torres de Hanoi:\n",
        "\n",
        "https://www.youtube.com/watch?v=lTA2-U8tZS0\n"
      ]
    },
    {
      "cell_type": "code",
      "metadata": {
        "id": "GfHOHtYDW8on",
        "colab": {
          "base_uri": "https://localhost:8080/"
        },
        "outputId": "80ee50cb-a4ef-4d2e-c81f-ed3fb112d47a"
      },
      "source": [
        "def TowerOfHanoi(n, source, auxiliary, destination):\n",
        "    if n==1:\n",
        "        print(f\"Mover disco 1 de torre {source} a torre {destination}\")\n",
        "        return\n",
        "    TowerOfHanoi(n-1, source, destination, auxiliary)\n",
        "    print(f\"Mover disco {n} de torre {source} a torre {destination}\")\n",
        "    TowerOfHanoi(n-1, auxiliary, source, destination)\n",
        "          \n",
        "n = 4\n",
        "TowerOfHanoi(n,'A','B','C') \n",
        "# A, B, C son las tres torres\n",
        "  \n"
      ],
      "execution_count": 3,
      "outputs": [
        {
          "output_type": "stream",
          "name": "stdout",
          "text": [
            "Mover disco 1 de torre A a torre B\n",
            "Mover disco 2 de torre A a torre C\n",
            "Mover disco 1 de torre B a torre C\n",
            "Mover disco 3 de torre A a torre B\n",
            "Mover disco 1 de torre C a torre A\n",
            "Mover disco 2 de torre C a torre B\n",
            "Mover disco 1 de torre A a torre B\n",
            "Mover disco 4 de torre A a torre C\n",
            "Mover disco 1 de torre B a torre C\n",
            "Mover disco 2 de torre B a torre A\n",
            "Mover disco 1 de torre C a torre A\n",
            "Mover disco 3 de torre B a torre C\n",
            "Mover disco 1 de torre A a torre B\n",
            "Mover disco 2 de torre A a torre C\n",
            "Mover disco 1 de torre B a torre C\n"
          ]
        }
      ]
    },
    {
      "cell_type": "markdown",
      "source": [
        "## Algoritmos recursivos\n",
        "\n",
        "---\n",
        "![recursividad.png](https://raw.githubusercontent.com/KevinChenWu/TallerPython/main/images/recursividad.png)"
      ],
      "metadata": {
        "id": "Anae3NzbN8jt"
      }
    },
    {
      "cell_type": "markdown",
      "metadata": {
        "id": "tZ7m1-d_9OlR"
      },
      "source": [
        "\"El poder de la recursividad reside evidentemente en la posibilidad de definir un conjunto infinito de objetos mediante un enunciado finito. De la misma manera, un programa recursivo finito puede describir un número infinito de cálculos, incluso si este programa no contiene repeticiones explícitas.\"\n",
        "— Niklaus Wirth, Algorithms + Data Structures = Programs, 1976\n",
        "\n",
        "Hay una gran cantidad de algoritmos recursivos de gran utilidad. La psosibilidad de procesar una cantidad de datos teoricamente infinita con unas pocas lineas de codigo abre la puerta par a algoritmos flexibles y eficientes.\n",
        "\n",
        "*   Factorial de un numero\n",
        "*   Series de Fibonacci\n",
        "\n"
      ]
    },
    {
      "cell_type": "code",
      "metadata": {
        "colab": {
          "base_uri": "https://localhost:8080/"
        },
        "id": "s37WJFlH9Lly",
        "outputId": "3ff71071-e536-4ca5-98e3-2037d8c128da"
      },
      "source": [
        "# Function for nth Fibonacci number\n",
        "def Fibonacci(n):\n",
        "   \n",
        "    # Revisar que el input sea valido\n",
        "    if n < 0:\n",
        "        print(\"Incorrect input\")\n",
        " \n",
        "    # Condicion de finalizacion n=0\n",
        "    elif n == 0:\n",
        "        return 0\n",
        " \n",
        "    # Condiciones base\n",
        "    elif n == 1 or n == 2:\n",
        "        return 1\n",
        " \n",
        "    else:\n",
        "        return Fibonacci(n-1) + Fibonacci(n-2)\n",
        " \n",
        "print(Fibonacci(7))"
      ],
      "execution_count": 7,
      "outputs": [
        {
          "output_type": "stream",
          "name": "stdout",
          "text": [
            "13\n"
          ]
        }
      ]
    }
  ]
}