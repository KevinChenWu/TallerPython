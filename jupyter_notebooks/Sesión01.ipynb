{
  "nbformat": 4,
  "nbformat_minor": 0,
  "metadata": {
    "colab": {
      "name": "Sesión01.ipynb",
      "provenance": [],
      "collapsed_sections": []
    },
    "kernelspec": {
      "name": "python3",
      "display_name": "Python 3"
    },
    "language_info": {
      "name": "python"
    }
  },
  "cells": [
    {
      "cell_type": "markdown",
      "source": [
        "# Sesión 1 de Python: Instalación de Python"
      ],
      "metadata": {
        "id": "nNN-yhLq2KAw"
      }
    },
    {
      "cell_type": "markdown",
      "source": [
        "Primero se verifica si Python ya está instalado en la computadora o no:\n",
        "\n",
        "\n",
        ">Caso de Windows\n",
        "1. Presionar la tecla Windows \n",
        "2. Escribir *cmd* en la barra de búsqueda y darle Enter\n",
        "\n",
        ">Caso de Linux\n",
        "1. Presionar CTRL + ALT + T\n",
        "\n",
        "\n",
        "Una vez hecho lo anterior se abre la terminal y se ejecuta el siguiente comando:\n",
        "\n",
        ">Caso Windows<br>\n",
        "&emsp; python --version\n",
        "\n",
        "> Caso de Linux<br>\n",
        ">> Si es Python2:<br>\n",
        "&emsp; python --version\n",
        ">\n",
        ">> Si es Python3:<br>\n",
        "&emsp; python3 --version\n",
        "\n",
        "\n",
        "Aquí se verá si ya hay alguna versión previamente instalada.\n",
        "<br>\n",
        "\n",
        "En caso de que no haya ninguna version instalada, no hay problema, se puede ir al siguiente link, y se descarga la version estable de python que se quiera.\n",
        "\n",
        "<br>\n",
        "\n",
        "> Caso de Windows\n",
        "\n",
        "- https://www.python.org/downloads/windows/\n",
        "\n",
        "- Una vez bajado el instalador, es cuestión de dar click en el mismo e instalar Python.\n",
        "\n",
        "![Python.png](https://raw.githubusercontent.com/KevinChenWu/TallerPython/main/images/Python.png)\n",
        "\n",
        "- Recuerde marcar la opción de \"Add Python 3.10 to PATH\"\n",
        "\n",
        "> Caso de Linux\n",
        "\n",
        "- sudo apt-get update\n",
        "- sudo apt-get install python3.10\n",
        "- Escribir \"Y\" y darle Enter\n",
        "\n",
        "La opción de instalar Python de forma local es recomendada si se quiere trabajar desde sus casas, sin embargo, para efectos del curso se va a estar utilizando la plataforma de Google Colab.\n",
        "\n",
        "El único requerimiento para acceder a ella, es tener correo de GMAIL."
      ],
      "metadata": {
        "id": "5-N_20IDI-jq"
      }
    },
    {
      "cell_type": "markdown",
      "metadata": {
        "id": "OwqaKnF1pI6p"
      },
      "source": [
        "#Introducción al curso!!!!"
      ]
    },
    {
      "cell_type": "markdown",
      "metadata": {
        "id": "LVApGcwxHOzF"
      },
      "source": [
        "### ¿Qué es un Programa?\n",
        "\n",
        "Un programa es una serie de instrucciones  previamente codificadas, las cuales permiten realizar una tarea en una computadora. \n",
        "\n",
        "A la serie de instrucciones mencionada anteriormente se le conoce como código fuente.\n",
        "\n",
        "El código debe ser escrito en un lenguaje de programación, el cual posteriormente será convertido en un ejecutable.\n",
        "\n",
        "(.exe, .out)"
      ]
    },
    {
      "cell_type": "markdown",
      "metadata": {
        "id": "sHaBVjQPHwPR"
      },
      "source": [
        "### ¿Cómo se ejecuta un programa?\n",
        "\n",
        "Para poder convertir el código fuente, en un archivo ejecutable, es necesario la ayuda de un compilador, para traducir el código fuente escrito y comprendido por un ser humano, a un código que pueda comprender la máquina. "
      ]
    },
    {
      "cell_type": "markdown",
      "metadata": {
        "id": "yY-ExMipH3vC"
      },
      "source": [
        "### ¿Qué es un Compilador?\n",
        "\n",
        "Un compilador es el traductor encargado de transformar el código fuente, en lenguaje máquina para posteriormente ejecutarlo. "
      ]
    },
    {
      "cell_type": "markdown",
      "metadata": {
        "id": "v_825HJsH_wB"
      },
      "source": [
        "### ¿Qué es un Intérprete?\n",
        "\n",
        "Los intérpretes cumplen con la misma tarea que el compilador; sin embargo, los intérpretes solo realizan la traducción a medida que sea necesaria. \n",
        "\n",
        "Normalmente la traducción ocurre instrucción a instrucción y no se guarda el resultado de la traducción. "
      ]
    },
    {
      "cell_type": "markdown",
      "metadata": {
        "id": "5-MNho_w06ty"
      },
      "source": [
        "### *Hola Mundo!*\n",
        "\n",
        "Usualmente el primer programa de todo programador es imprimir algo\n",
        "\n",
        "cualquier cosa! Típicamente se saluda a alguien o en este caso al mundo\n",
        "\n",
        "En Python es realmente sencillo imprimir cosas:\n",
        "\n",
        "Solamente con escribir la función ***print(x)*** \n",
        "\n",
        "Igual que en las funciones matemáticas, cuando se evalúa una función se insertan valores para ***x***"
      ]
    },
    {
      "cell_type": "code",
      "metadata": {
        "colab": {
          "base_uri": "https://localhost:8080/"
        },
        "id": "GFQl3kUh3i8h",
        "outputId": "667a1685-f469-46ac-f87a-db81530ed3a3"
      },
      "source": [
        "print(\"Hola Mundo\")\n"
      ],
      "execution_count": 1,
      "outputs": [
        {
          "output_type": "stream",
          "name": "stdout",
          "text": [
            "Hola Mundo\n"
          ]
        }
      ]
    },
    {
      "cell_type": "markdown",
      "metadata": {
        "id": "rDNmuoSG3gtT"
      },
      "source": [
        "  El problema de hacer esto de esta forma es que estamos limitados a solo imprimir el argumento que le demos a la función. \n",
        "\n",
        "  Este error es sencillo de arreglar. Para hacer esto de forma más dinámica, se puede pedir al usuario que inserte una palabra. \n",
        "\n",
        "  El comando para esto es ***Input(x)***\n",
        "\n",
        "  El comando **\"\\n\"** sirve para imprimir una línea en blanco o bien decirle al interprete de Python que salte a la línea siguiente. "
      ]
    },
    {
      "cell_type": "code",
      "metadata": {
        "colab": {
          "base_uri": "https://localhost:8080/"
        },
        "id": "TF2_0f4Q4XGp",
        "outputId": "63465c0d-3ac3-40a5-a9a1-f88c257bbccc"
      },
      "source": [
        "nombre = input(\"Hola, Digite su nombre por favor!!\\n\")\n",
        "colegio = input (\"Digite el nombre del colegio:\\n\")\n",
        "\n",
        "print(f\"\\nMi nombre es: {nombre}\\n\")\n",
        "print(f\"Esto es un curso para chicos del colegio: {colegio}\\n\")\n"
      ],
      "execution_count": 3,
      "outputs": [
        {
          "output_type": "stream",
          "name": "stdout",
          "text": [
            "Hola, Digite su nombre por favor!!\n",
            "Kevin\n",
            "Digite el nombre del colegio:\n",
            "A\n",
            "\n",
            "Mi nombre es: Kevin\n",
            "\n",
            "Esto es un curso para chicos del colegio: A\n",
            "\n"
          ]
        }
      ]
    },
    {
      "cell_type": "markdown",
      "source": [
        "### PEP8"
      ],
      "metadata": {
        "id": "lUxHvcJoETsV"
      }
    },
    {
      "cell_type": "markdown",
      "source": [
        "Muchas veces cuando uno empieza a programar deja muy en lado el tema de la sintaxis y la legibilidad del código, sin embargo esto se vuelve muy importante a la hora de encontrar errores, por lo que es mejor empezar con las buenas prácticas a la hora de escribir nuestro código. Existe un documento llamado PEP 8 el cual fue escrito por el creador de Python con la ayuda de otros. No es necesario ni es deber de un programador en Python saberse todas las reglas y buenas prácticas, existe la siguiente página:\n",
        "http://pep8online.com/\n",
        "\n",
        "Donde se puede primero escribir nuestro código y verificar que este funcione y cumpla nuestro propósito, luego se revisa si cumple las reglas de PEP 8.\n",
        "\n",
        "![pep8.png](https://raw.githubusercontent.com/KevinChenWu/TallerPython/main/images/pep8.png)\n",
        "\n",
        "Se pega el código en el espacio donde dice \"1\" y luego les das en el botón **Check code**."
      ],
      "metadata": {
        "id": "V0QCBUK2E9g6"
      }
    }
  ]
}