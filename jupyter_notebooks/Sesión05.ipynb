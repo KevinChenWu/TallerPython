{
  "nbformat": 4,
  "nbformat_minor": 0,
  "metadata": {
    "colab": {
      "name": "Sesión05.ipynb",
      "provenance": [],
      "collapsed_sections": [],
      "toc_visible": true
    },
    "kernelspec": {
      "name": "python3",
      "display_name": "Python 3"
    },
    "language_info": {
      "name": "python"
    }
  },
  "cells": [
    {
      "cell_type": "markdown",
      "metadata": {
        "id": "-x9SF9rf_O5N"
      },
      "source": [
        "# Sesión 5 de Python: Estructuras de Datos Lineales y Bidimensionales"
      ]
    },
    {
      "cell_type": "markdown",
      "metadata": {
        "id": "BoN4i0AK0Qdn"
      },
      "source": [
        "![datos-python.jpg](https://raw.githubusercontent.com/KevinChenWu/TallerPython/main/images/datos-python.jpg)"
      ]
    },
    {
      "cell_type": "markdown",
      "metadata": {
        "id": "lMqJOYZzZ0LV"
      },
      "source": [
        "#Listas"
      ]
    },
    {
      "cell_type": "markdown",
      "metadata": {
        "id": "RhP9n6OqlCny"
      },
      "source": [
        "![listas.jpg](https://raw.githubusercontent.com/KevinChenWu/TallerPython/main/images/listas.jpg)"
      ]
    },
    {
      "cell_type": "markdown",
      "metadata": {
        "id": "MRsGjLkqaOEb"
      },
      "source": [
        "Una lista es una estructura de datos y un tipo de dato en python con características especiales. Lo especial de las listas en Python es que permiten almacenar cualquier tipo de valor como enteros, cadenas y hasta otras funciones"
      ]
    },
    {
      "cell_type": "code",
      "metadata": {
        "id": "JhIBcaGbaOb5",
        "colab": {
          "base_uri": "https://localhost:8080/"
        },
        "outputId": "98bff088-adca-425f-92b3-6ab4078739bc"
      },
      "source": [
        "lista = [1, 2.5, 'DevCode', [5,6] ,4]\n",
        "print(type(lista))\n",
        "lista1 = [1,2,3,4]\n",
        "print(lista)\n"
      ],
      "execution_count": 1,
      "outputs": [
        {
          "output_type": "stream",
          "name": "stdout",
          "text": [
            "<class 'list'>\n",
            "[1, 2.5, 'DevCode', [5, 6], 4]\n"
          ]
        }
      ]
    },
    {
      "cell_type": "markdown",
      "metadata": {
        "id": "EHT9X7p2aiIh"
      },
      "source": [
        "Una lista es un arreglo de elementos donde se puede ingresar cualquier tipo de dato, para acceder a estos datos se hace mediante un índice."
      ]
    },
    {
      "cell_type": "code",
      "metadata": {
        "id": "IraKfzYSaioJ",
        "colab": {
          "base_uri": "https://localhost:8080/"
        },
        "outputId": "271592a5-44bc-47c0-ea84-9f3422779302"
      },
      "source": [
        "lista = [1, 2.5, 'DevCode', [5,6] ,4,5]\n",
        "print(lista[0]) # 1\n",
        "print(lista[1]) # 2.5\n",
        "print(lista[1:3]) # Desde índice 1 hasta 3 no inclusive [1,3[ (2.5, 'DevCode')\n"
      ],
      "execution_count": 3,
      "outputs": [
        {
          "output_type": "stream",
          "name": "stdout",
          "text": [
            "1\n",
            "2.5\n",
            "[2.5, 'DevCode']\n"
          ]
        }
      ]
    },
    {
      "cell_type": "markdown",
      "metadata": {
        "id": "IpYXVDEAbJLo"
      },
      "source": [
        "## Métodos de las Listas\n"
      ]
    },
    {
      "cell_type": "markdown",
      "metadata": {
        "id": "bK9JO830xDHq"
      },
      "source": [
        "![list.png](https://raw.githubusercontent.com/KevinChenWu/TallerPython/main/images/list.png)"
      ]
    },
    {
      "cell_type": "code",
      "metadata": {
        "id": "ekgQ2isCbVjr",
        "colab": {
          "base_uri": "https://localhost:8080/"
        },
        "outputId": "89327435-acf8-48c3-9c14-48b2f07cdb88"
      },
      "source": [
        "my_list = [2, 5, 'DevCode', 1.2, 5]\n",
        "\n",
        "# Append()\n",
        "my_list.append(10) # [2, 5, 'DevCode', 1.2, 5, 10]\n",
        "my_list.append([2,5]) # [2, 5, 'DevCode', 1.2, 5, 10, [2, 5]]\n",
        "print(my_list)\n",
        "\n",
        "# pop()\n",
        "my_list.pop(3) # se le pasa el indice\n",
        "print(my_list)\n",
        "\n",
        "\n",
        "# Extend()\n",
        "my_list.extend([2,5]) # [2, 5, 'DevCode', 5, 10, [2, 5], 2, 5]\n",
        "print(my_list)\n",
        "\n",
        "\n",
        "# Remove()\n",
        "my_list.remove(2) # [5, 'DevCode', 5, 10, [2, 5], 2, 5]\n",
        "print(my_list)\n",
        "\n",
        "\n",
        "# Index()\n",
        "my_list.index('DevCode') # 2\n",
        "print(my_list.index('DevCode'))\n",
        "\n",
        "\n",
        "# Count()\n",
        "my_list.count(5) # 3\n",
        "print(my_list.count(5))\n",
        "\n",
        "\n",
        "# Reverse()\n",
        "my_list.reverse() # [5, 2, [2, 5], 10, 5 'DevCode', 5]\n",
        "print(my_list)\n"
      ],
      "execution_count": 4,
      "outputs": [
        {
          "output_type": "stream",
          "name": "stdout",
          "text": [
            "[2, 5, 'DevCode', 1.2, 5, 10, [2, 5]]\n",
            "[2, 5, 'DevCode', 5, 10, [2, 5]]\n",
            "[2, 5, 'DevCode', 5, 10, [2, 5], 2, 5]\n",
            "[5, 'DevCode', 5, 10, [2, 5], 2, 5]\n",
            "1\n",
            "3\n",
            "[5, 2, [2, 5], 10, 5, 'DevCode', 5]\n"
          ]
        }
      ]
    },
    {
      "cell_type": "markdown",
      "metadata": {
        "id": "NCHutFNzaDW0"
      },
      "source": [
        "#Tuplas"
      ]
    },
    {
      "cell_type": "markdown",
      "metadata": {
        "id": "gAsr-MbExNB1"
      },
      "source": [
        "![python-tuple.jpg](https://raw.githubusercontent.com/KevinChenWu/TallerPython/main/images/python-tuple.jpg)"
      ]
    },
    {
      "cell_type": "markdown",
      "metadata": {
        "id": "aUBGsXVVjgGz"
      },
      "source": [
        "Las tuplas en Python o tuples son muy similares a las listas, pero con dos diferencias. Son inmutables, lo que significa que no pueden ser modificadas una vez declaradas, y en vez de inicializarse con corchetes [ ] se hace con ( ). Dependiendo de lo que se quiera hacer, las tuplas pueden ser más rápidas."
      ]
    },
    {
      "cell_type": "code",
      "metadata": {
        "id": "MM_auXdNjiFg",
        "colab": {
          "base_uri": "https://localhost:8080/"
        },
        "outputId": "f7a4418c-e023-4ea2-c56f-d2fa3edbce50"
      },
      "source": [
        "tupla = (1, 2, 3)\n",
        "print(tupla) # (1, 2, 3)\n",
        "\n",
        "\n",
        "tupla = 1, 2, 3\n",
        "print(type(tupla)) # <class 'tuple'>\n",
        "print(tupla)       # (1, 2, 3)\n",
        "\n",
        "\n",
        "tupla = (1, 2, 3)\n",
        "for t in tupla:\n",
        "    print(t) # 1, 2, 3\n",
        "\n",
        "# casteo de tuplas a listas\n",
        "lista = [1, 2, 3]\n",
        "tupla = tuple(lista)\n",
        "lista1 = list(tupla)\n",
        "print(type(lista1)) # <class 'list'>\n",
        "print(lista1)       # [1, 2, 3]\n"
      ],
      "execution_count": 5,
      "outputs": [
        {
          "output_type": "stream",
          "name": "stdout",
          "text": [
            "(1, 2, 3)\n",
            "<class 'tuple'>\n",
            "(1, 2, 3)\n",
            "1\n",
            "2\n",
            "3\n",
            "<class 'list'>\n",
            "[1, 2, 3]\n"
          ]
        }
      ]
    },
    {
      "cell_type": "markdown",
      "metadata": {
        "id": "_CLwPVlPjg6Z"
      },
      "source": [
        "## Métodos de las Tuplas"
      ]
    },
    {
      "cell_type": "markdown",
      "metadata": {
        "id": "cGU8mEAnyEAU"
      },
      "source": [
        "\n",
        "![tuple.png](https://raw.githubusercontent.com/KevinChenWu/TallerPython/main/images/tuple.png)"
      ]
    },
    {
      "cell_type": "code",
      "metadata": {
        "id": "oM5hNrqpkMjC",
        "colab": {
          "base_uri": "https://localhost:8080/"
        },
        "outputId": "b14fa51a-1db0-4149-a013-7eca2b20cf60"
      },
      "source": [
        "# len(): tamaño\n",
        "l = (1,2,3,4)\n",
        "print(len(l)) #4\n",
        "\n",
        "# max(): valor máximo\n",
        "l = (1,2,3,100)\n",
        "print(max(l)) #100\n",
        "\n",
        "# min(): valor mínimo\n",
        "l = (1,2,3,100)\n",
        "print(min(l)) #1\n",
        "\n",
        "# sum(): suma todos los elementos\n",
        "l = (1,2,3)\n",
        "print(sum(l)) #6\n",
        "\n",
        "# any(): busca si algún elemento es True/1\n",
        "l = (True,1,0)\n",
        "print(any(l)) #True\n",
        "\n",
        "# any()\n",
        "l = (0,0,0)\n",
        "print(any(l)) #False\n",
        "\n",
        "# all(): busca si todos los elementos son True/1\n",
        "l = (1,True,1)\n",
        "print(all(l)) #True\n",
        "\n",
        "# all()\n",
        "l = (1,True,0)\n",
        "print(all(l)) #False\n",
        "\n",
        "# sorted(): ordena los números de menor a mayor y lo retorna en una lista\n",
        "numbers = (4, 2, 12, 8)\n",
        "sorted_numbers = sorted(numbers)\n",
        "print(sorted_numbers)\n",
        "\n",
        "# count(): cuenta las apariciones de un cierto elemento\n",
        "l = (1, 1, 1, 3, 5)\n",
        "print(l.count(1)) #3\n",
        "\n",
        "\n",
        "# index(): devuelve el índice de un cierto elemento\n",
        "l = (7, 7, 7, 3, 5)\n",
        "print(l.index(5)) #4\n",
        "\n",
        "l = (7, 7, 7, 3, 5)\n",
        "#print(l.index(35)) # Error! ValueError\n",
        "\n",
        "l = (7, 7, 7, 3, 5)\n",
        "print(l.index(7, 2)) # Busca el elemento a partir de un índice\n"
      ],
      "execution_count": 6,
      "outputs": [
        {
          "output_type": "stream",
          "name": "stdout",
          "text": [
            "4\n",
            "100\n",
            "1\n",
            "6\n",
            "True\n",
            "False\n",
            "True\n",
            "False\n",
            "[2, 4, 8, 12]\n",
            "3\n",
            "4\n",
            "2\n"
          ]
        }
      ]
    },
    {
      "cell_type": "markdown",
      "metadata": {
        "id": "vOZchGYcZ7mA"
      },
      "source": [
        "#Diccionarios"
      ]
    },
    {
      "cell_type": "markdown",
      "metadata": {
        "id": "hODt1r_xy9Y_"
      },
      "source": [
        "![diccionarios-en-python.png](https://raw.githubusercontent.com/KevinChenWu/TallerPython/main/images/diccionarios-en-python.png)"
      ]
    },
    {
      "cell_type": "markdown",
      "metadata": {
        "id": "4AxIM2z4g-oy"
      },
      "source": [
        "Un Diccionario es una estructura de datos y un tipo de dato en Python con características especiales que permite almacenar cualquier tipo de valor como enteros, cadenas, listas e incluso otras funciones. Estos diccionarios permiten además identificar cada elemento por una clave (Key). Para definir un diccionario, se encierra el listado de valores entre llaves. Las parejas de clave y valor se separan con comas, y la clave y el valor se separan con dos puntos. Las llaves solo pueden ser enteros, strings o tuplas (inmutables)."
      ]
    },
    {
      "cell_type": "markdown",
      "metadata": {
        "id": "kYbdhtGGzBuV"
      },
      "source": [
        "![dictionary.png](https://raw.githubusercontent.com/KevinChenWu/TallerPython/main/images/dictionary.png)"
      ]
    },
    {
      "cell_type": "code",
      "metadata": {
        "id": "Ox528pVVhK_1",
        "colab": {
          "base_uri": "https://localhost:8080/"
        },
        "outputId": "8b76995e-f78e-47f3-bf9d-7d724072b103"
      },
      "source": [
        "diccionario = {'nombre' : 'Carlos', 'edad' : 22, 'cursos': ['Python','Django']}\n",
        "\n",
        "print(diccionario['nombre']) # Carlos\n",
        "print(diccionario['edad'])# 22\n",
        "print(diccionario['cursos']) # ['Python','Django']\n",
        "\n",
        "print(diccionario['cursos'][0])# Python\n",
        "print(diccionario['cursos'][1])# Django\n",
        "\n",
        "for key in diccionario:\n",
        "  print(f\"{key} : {diccionario[key]}\")\n"
      ],
      "execution_count": 7,
      "outputs": [
        {
          "output_type": "stream",
          "name": "stdout",
          "text": [
            "Carlos\n",
            "22\n",
            "['Python', 'Django']\n",
            "Python\n",
            "Django\n",
            "nombre : Carlos\n",
            "edad : 22\n",
            "cursos : ['Python', 'Django']\n"
          ]
        }
      ]
    },
    {
      "cell_type": "markdown",
      "metadata": {
        "id": "ueYU5AgWh6oK"
      },
      "source": [
        "## Métodos de los Diccionarios"
      ]
    },
    {
      "cell_type": "code",
      "metadata": {
        "id": "r6fJohcGh-od",
        "colab": {
          "base_uri": "https://localhost:8080/"
        },
        "outputId": "ee46c5eb-a083-48a0-ad25-9c1f13dd20fb"
      },
      "source": [
        "# dict()\n",
        "dic = dict(nombre='nestor', apellido='Plasencia', edad=22)\n",
        "print(dic)\n",
        "\n",
        "# items()\n",
        "dic = {'a' : 1, 'b' : 2, 'c' : 3 , 'd' : 4}\n",
        "items = dic.items()\n",
        "print(items)\n",
        "\n",
        "# keys()\n",
        "dic = {'a' : 1, 'b' : 2, 'c' : 3 , 'd' : 4}\n",
        "keys = dic.keys()\n",
        "print(keys)\n",
        "\n",
        "# values()\n",
        "dic =  {'a' : 1, 'b' : 2, 'c' : 3 , 'd' : 4}\n",
        "values = dic.values()\n",
        "print(values)\n",
        "\n",
        "# clear()\n",
        "dic1 =  {'a' : 1, 'b' : 2, 'c' : 3 , 'd' : 4}\n",
        "dic1.clear()\n",
        "print(dic1)\n",
        "\n",
        "# copy()\n",
        "dic = {'a' : 1, 'b' : 2, 'c' : 3 , 'd' : 4}\n",
        "dic1 = dic.copy()\n",
        "print(dic1)\n",
        "\n",
        "# Cuidado con copy() al tener elementos mutables\n",
        "dic = {'a': 1, 'b': 2, 'c': 3, 'd': [1, 3]}\n",
        "dic1 = dic.copy()\n",
        "dic['d'][0] = 50\n",
        "print(dic1)\n",
        "print(dic)\n",
        "\n",
        "# Solución: usar deepcopy() para copiar las listas anidadas\n",
        "\n",
        "# get()\n",
        "dic = {'a' : 1, 'b' : 2, 'c' : 3 , 'd' : 4}\n",
        "valor = dic.get('b') \n",
        "print(valor)\n",
        "\n",
        "# pop()\n",
        "dic = {'a' : 1, 'b' : 2, 'c' : 3 , 'd' : 4}\n",
        "valor = dic.pop('b') \n",
        "print(valor)\n",
        "print(dic)\n"
      ],
      "execution_count": 8,
      "outputs": [
        {
          "output_type": "stream",
          "name": "stdout",
          "text": [
            "{'nombre': 'nestor', 'apellido': 'Plasencia', 'edad': 22}\n",
            "dict_items([('a', 1), ('b', 2), ('c', 3), ('d', 4)])\n",
            "dict_keys(['a', 'b', 'c', 'd'])\n",
            "dict_values([1, 2, 3, 4])\n",
            "{}\n",
            "{'a': 1, 'b': 2, 'c': 3, 'd': 4}\n",
            "{'a': 1, 'b': 2, 'c': 3, 'd': [50, 3]}\n",
            "{'a': 1, 'b': 2, 'c': 3, 'd': [50, 3]}\n",
            "2\n",
            "2\n",
            "{'a': 1, 'c': 3, 'd': 4}\n"
          ]
        }
      ]
    },
    {
      "cell_type": "markdown",
      "metadata": {
        "id": "ZojZ1RQiaKJL"
      },
      "source": [
        "#Matrices"
      ]
    },
    {
      "cell_type": "markdown",
      "metadata": {
        "id": "eMYe3UBrzxHw"
      },
      "source": [
        "![matriz.jpg](https://raw.githubusercontent.com/KevinChenWu/TallerPython/main/images/matriz.jpg)"
      ]
    },
    {
      "cell_type": "markdown",
      "metadata": {
        "id": "KWMXsR5EAv8f"
      },
      "source": [
        "Una matriz es una\n",
        "lista de listas que se interpreta desde el punto de vista matemático. Es decir,\n",
        "la estructura m = [ [1,2], [3,4] ] se interpreta como la matriz 2x2 cuya\n",
        "primera fila es (1,2) y cuya segunda fila es (3,4)"
      ]
    },
    {
      "cell_type": "markdown",
      "metadata": {
        "id": "LsW5n2Wvz659"
      },
      "source": [
        "![reshape.png](https://raw.githubusercontent.com/KevinChenWu/TallerPython/main/images/reshape.png)"
      ]
    },
    {
      "cell_type": "code",
      "metadata": {
        "id": "MlTkqkmNhSkL",
        "colab": {
          "base_uri": "https://localhost:8080/"
        },
        "outputId": "bb8960a9-6dc8-4420-d3b1-2f9b3851578a"
      },
      "source": [
        "m = [[1,2],[3,4]]\n",
        "print(m)\n",
        "\n",
        "def matriz2str(matriz):\n",
        " cadena = ''\n",
        " for i in range(len(matriz)):\n",
        "   cadena += \"[\"\n",
        "   for j in range(len(matriz[i])):\n",
        "     cadena += f\" {matriz[i][j]} \"\n",
        "   cadena += \"]\\n\"\n",
        " return cadena\n",
        "\n",
        "\n",
        "s = matriz2str(m)\n",
        "print(s)\n"
      ],
      "execution_count": 9,
      "outputs": [
        {
          "output_type": "stream",
          "name": "stdout",
          "text": [
            "[[1, 2], [3, 4]]\n",
            "[ 1  2 ]\n",
            "[ 3  4 ]\n",
            "\n"
          ]
        }
      ]
    },
    {
      "cell_type": "code",
      "metadata": {
        "id": "Oc-UXyfNVaG2",
        "colab": {
          "base_uri": "https://localhost:8080/"
        },
        "outputId": "0921804c-77db-48aa-8d4d-fede70e1b1bf"
      },
      "source": [
        "import numpy as np\n",
        "matrix_aux = [[1,2,3],\n",
        "              [4,5,6]]\n",
        "\n",
        "m = np.array(matrix_aux)\n",
        "\n",
        "print(m[1,1])\n",
        "print(m[:,2])\n",
        "print(m[0,:])\n",
        "print(m[0,::-1])\n",
        "\n",
        "print(m.sum())\n",
        "print(m[0,:].sum())\n",
        "print(m.flatten())\n"
      ],
      "execution_count": 10,
      "outputs": [
        {
          "output_type": "stream",
          "name": "stdout",
          "text": [
            "5\n",
            "[3 6]\n",
            "[1 2 3]\n",
            "[3 2 1]\n",
            "21\n",
            "6\n",
            "[1 2 3 4 5 6]\n"
          ]
        }
      ]
    },
    {
      "cell_type": "markdown",
      "metadata": {
        "id": "MJ0fcQ92NSlR"
      },
      "source": [
        "Ejemplo listas #1\n",
        "\n",
        "\n",
        "* Sume todos los numeros de una lista. \n",
        "* Multiplique todos los elementos dentro de una lista.\n",
        "* Encontrar el valor mayor dentro de una lista.\n",
        "* Encontrar los valores que se repiten en una lista.\n",
        "* Contar las veces que se repite un numero dado. \n"
      ]
    },
    {
      "cell_type": "code",
      "metadata": {
        "colab": {
          "base_uri": "https://localhost:8080/"
        },
        "id": "SXEGzB5gNWed",
        "outputId": "8b0b093e-95f8-40ac-f9aa-0a118f579bfc"
      },
      "source": [
        "notas = [50,60,100,90,85,70,50,60,60]\n",
        "total_notas = 0\n",
        "mult_notas = 1\n",
        "\n",
        "#Suma\n",
        "for nota in notas:\n",
        "  #total_notas = total_notas + nota\n",
        "  total_notas += nota\n",
        "\n",
        "print(sum(notas))\n",
        "print(total_notas)\n",
        "  \n",
        "#Multiplicacion\n",
        "for nota in notas:\n",
        "  mult_notas *= nota\n",
        "\n",
        "print(mult_notas)\n",
        "\n",
        "#Numero mayor \n",
        "mayor = notas[0]\n",
        "for nota in range(len(notas)): # range = 0,1,2,3,4,5\n",
        "  if notas[nota] > mayor:\n",
        "    mayor = notas[nota]\n",
        "\n",
        "print(mayor)\n",
        "print(max(notas))\n",
        "\n",
        "#Encontrar las repeticiones en una lista\n",
        "repeticiones = []\n",
        "unica_repeticion = []\n",
        "\n",
        "for nota in notas:\n",
        "  if notas.count(nota) == 1:\n",
        "    unica_repeticion.append(nota)\n",
        "  elif nota not in repeticiones:\n",
        "    repeticiones.append(nota)\n",
        "\n",
        "print(repeticiones) \n",
        "print(unica_repeticion)\n",
        "\n",
        "#Cuenta cuantas veces se repite un numero dado \n",
        "contador = 0\n",
        "num = 50\n",
        "for nota in notas:\n",
        "  if nota == num:\n",
        "    contador +=1\n",
        "\n",
        "print(contador)\n"
      ],
      "execution_count": 11,
      "outputs": [
        {
          "output_type": "stream",
          "name": "stdout",
          "text": [
            "625\n",
            "625\n",
            "28917000000000000\n",
            "100\n",
            "100\n",
            "[50, 60]\n",
            "[100, 90, 85, 70]\n",
            "2\n"
          ]
        }
      ]
    }
  ]
}