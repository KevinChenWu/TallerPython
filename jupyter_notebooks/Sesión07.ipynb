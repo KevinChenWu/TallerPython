{
  "nbformat": 4,
  "nbformat_minor": 0,
  "metadata": {
    "colab": {
      "name": "Sesión07.ipynb",
      "provenance": [],
      "collapsed_sections": [],
      "toc_visible": true
    },
    "kernelspec": {
      "name": "python3",
      "display_name": "Python 3"
    },
    "language_info": {
      "name": "python"
    }
  },
  "cells": [
    {
      "cell_type": "markdown",
      "source": [
        "# Sesión 7: Práctica 2\n",
        "\n",
        "\n",
        "\n",
        "\n",
        "---\n",
        "![practice.jpg](https://raw.githubusercontent.com/KevinChenWu/TallerPython/main/images/practice.jpg)"
      ],
      "metadata": {
        "id": "4mJfGwGbGGJP"
      }
    },
    {
      "cell_type": "markdown",
      "metadata": {
        "id": "Az2sE6eqDCXZ"
      },
      "source": [
        "<img src=\"https://raw.githubusercontent.com/KevinChenWu/TallerPython/main/images/gato-meme.jpg\" alt=\"gato-meme.jpg\" width=\"300px\"/>"
      ]
    },
    {
      "cell_type": "markdown",
      "metadata": {
        "id": "JAQoH1d6qLCs"
      },
      "source": [
        "##**Ejercicio 1: Calculadora científica (Aritmética básica, raices, potencias, y trigonometría)**\n",
        "\n",
        "---\n",
        "\n",
        "![calcu-100.jpg](https://raw.githubusercontent.com/KevinChenWu/TallerPython/main/images/calcu-100.jpg)\n",
        "\n",
        "Realizar una calculadora realista que permita hacer las operaciones básicas (Aritmética básica, raices, potencias, y trigonometría) y que deban ser digitadas por el usuario. Además, que esta se mantenga encendida hasta que el usuario decida apagarla.\n",
        "\n",
        "### Caso de trigonometría: \n",
        "\n",
        "![trigo.gif](https://raw.githubusercontent.com/KevinChenWu/TallerPython/main/images/trigo.gif)\n"
      ]
    },
    {
      "cell_type": "code",
      "metadata": {
        "id": "SDWaC4w4mPG2",
        "colab": {
          "base_uri": "https://localhost:8080/"
        },
        "outputId": "118f17e8-cb85-4c0f-ca52-33e6d91c77ef",
        "cellView": "form"
      },
      "source": [
        "#@title Solución\n",
        "import math\n",
        "\n",
        "def suma(numA, numB):\n",
        "  return numA+numB\n",
        "\n",
        "def resta(numA, numB):\n",
        "  return numA-numB\n",
        "\n",
        "def division(numA, numB):\n",
        "  if numB != 0:\n",
        "    return numA/numB\n",
        "  else:\n",
        "    return \"El divisor no puede ser cero\"\n",
        "\n",
        "def multiplicacion(numA,numB):\n",
        "  return numA*numB\n",
        "\n",
        "def raiz(numA):\n",
        "  return math.sqrt(numA)\n",
        "\n",
        "def potencia(numA,numB):\n",
        "  return math.pow(numA,numB)\n",
        "\n",
        "def seno(numA):\n",
        "  return math.sin(math.radians(numA))\n",
        "\n",
        "def coseno(numA):\n",
        "  if numA == 90:\n",
        "    return 0.0\n",
        "  else:\n",
        "    return math.cos(math.radians(numA))\n",
        "\n",
        "def tangente(numA):\n",
        "  if numA == 90:\n",
        "    return \"Math Error\"\n",
        "  else:\n",
        "    return math.tan(math.radians(numA))\n",
        "\n",
        "def cosecante(numA):\n",
        "  if numA == 0:\n",
        "    return \"Math Error\"\n",
        "  else:\n",
        "    return 1/math.sin(math.radians(numA))\n",
        "\n",
        "def secante(numA):\n",
        "  if numA == 90:\n",
        "    return \"Math Error\"\n",
        "  else:\n",
        "    return 1/math.cos(math.radians(numA))\n",
        "\n",
        "def cotangente(numA):\n",
        "  if numA == 0:\n",
        "    return \"Math Error\"\n",
        "  elif numA == 90:\n",
        "    return 0.0\n",
        "  else:\n",
        "    return 1/math.tan(math.radians(numA))\n",
        "\n",
        "\n",
        "def calculadora(operador = input(\"Introduzca un operador: \")):\n",
        "  if operador == \"+\":\n",
        "    print(suma(\n",
        "        int(input(\"Ingrese el primer número: \")),\n",
        "        int(input(\"Ingrese el segundo número: \"))),\"\\n\")\n",
        "    calculadora(operador = input(\"Introduzca un operador: \"))\n",
        "\n",
        "  elif operador == \"-\":\n",
        "    print(resta(\n",
        "        int(input(\"Ingrese el primer número: \")),\n",
        "        int(input(\"Ingrese el segundo número: \"))),\"\\n\")\n",
        "    calculadora(operador = input(\"Introduzca un operador: \"))\n",
        "\n",
        "  elif operador == \"/\":\n",
        "    print(division(\n",
        "        int(input(\"Ingrese el primer número: \")),\n",
        "        int(input(\"Ingrese el segundo número: \"))),\"\\n\")\n",
        "    calculadora(operador = input(\"Introduzca un operador: \"))\n",
        "\n",
        "  elif operador == \"*\":\n",
        "    print(multiplicacion(\n",
        "        int(input(\"Ingrese el primer número: \")),\n",
        "        int(input(\"Ingrese el segundo número: \"))),\"\\n\")\n",
        "    calculadora(operador = input(\"Introduzca un operador: \"))\n",
        "\n",
        "  elif operador == \"sqrt\":\n",
        "    print(raiz(int(input(\"Ingrese el número: \"))),\"\\n\")\n",
        "    calculadora(operador = input(\"Introduzca un operador: \"))\n",
        "\n",
        "  elif operador == \"**\":\n",
        "    print(potencia(\n",
        "        int(input(\"Ingrese el primer número: \")),\n",
        "        int(input(\"Ingrese el segundo número: \"))),\"\\n\")\n",
        "    calculadora(operador = input(\"Introduzca un operador: \"))\n",
        "\n",
        "  elif operador == \"cos\":\n",
        "    print(coseno(int(input(\"Ingrese el número: \"))),\"\\n\")\n",
        "    calculadora(operador = input(\"Introduzca un operador: \"))\n",
        "\n",
        "  elif operador == \"sen\":\n",
        "    print(seno(int(input(\"Ingrese el número: \"))),\"\\n\")\n",
        "    calculadora(operador = input(\"Introduzca un operador: \"))\n",
        "\n",
        "  elif operador == \"tan\":\n",
        "    print(tangente(int(input(\"Ingrese el número: \"))),\"\\n\")\n",
        "    calculadora(operador = input(\"Introduzca un operador: \"))\n",
        "\n",
        "  elif operador == \"sec\":\n",
        "    print(secante(int(input(\"Ingrese el número: \"))),\"\\n\")\n",
        "    calculadora(operador = input(\"Introduzca un operador: \"))\n",
        "\n",
        "  elif operador == \"csc\":\n",
        "    print(cosecante(int(input(\"Ingrese el número: \"))),\"\\n\")\n",
        "    calculadora(operador = input(\"Introduzca un operador: \"))\n",
        "\n",
        "  elif operador == \"cot\":\n",
        "    print(cotangente(int(input(\"Ingrese el número: \"))),\"\\n\")\n",
        "    calculadora(operador = input(\"Introduzca un operador: \"))\n",
        "\n",
        "  elif operador == \"off\":\n",
        "    print(\"Turn off\")\n",
        "  else:\n",
        "    print(\"El operador no es valido \\n\")\n",
        "    calculadora(operador = input(\"Introduzca un operador: \"))\n",
        "\n",
        "\n",
        "calculadora()\n"
      ],
      "execution_count": 1,
      "outputs": [
        {
          "output_type": "stream",
          "name": "stdout",
          "text": [
            "Introduzca un operador: off\n",
            "Turn off\n"
          ]
        }
      ]
    },
    {
      "cell_type": "markdown",
      "metadata": {
        "id": "sl20eX3r57WC"
      },
      "source": [
        "##**Ejercicio 2: Bubble sort**\n",
        "\n",
        "---\n",
        "\n",
        "La Ordenación de burbuja (Bubble Sort en inglés) es un sencillo algoritmo de ordenamiento. Funciona revisando cada elemento de la lista que va a ser ordenada con el siguiente, intercambiándolos de posición si están en el orden equivocado. Es necesario revisar varias veces toda la lista hasta que no se necesiten más intercambios, lo cual significa que la lista está ordenada. Este algoritmo obtiene su nombre de la forma con la que suben por la lista los elementos durante los intercambios, como si fueran pequeñas \"burbujas\".\n",
        "\n",
        "![bubble-sort.png](https://raw.githubusercontent.com/KevinChenWu/TallerPython/main/images/bubble-sort.png)\n",
        "\n",
        "### Ejercicio:\n",
        "\n",
        "Hacer un código que pida crear una lista, dándole la cantidad de elementos en la lista y que se debe digitar los valores asociados a esa cantidad. Posteriormente, realizar una función capaz de recibir la lista creada por el usuario y que la ordene de menor a mayor."
      ]
    },
    {
      "cell_type": "code",
      "metadata": {
        "colab": {
          "base_uri": "https://localhost:8080/"
        },
        "id": "vcGtej596R62",
        "outputId": "1c33b31c-8bac-4f09-9679-ba8f909ac3f6",
        "cellView": "form"
      },
      "source": [
        "#@title Solución\n",
        "lista = []\n",
        "n = int(input(\"Introduzca el número de elementos en la lista: \"))\n",
        "for i in range(0, n):\n",
        "  valor = int(input(\"Coloque un número: \"))\n",
        "  lista.append(valor)\n",
        "\n",
        "print(f\"La lista antes de hacer bubble sort: {lista}\")\n",
        "\n",
        "def bubblesort(array):\n",
        "  n = len(array)\n",
        "  for i in range(n):\n",
        "    cambio = False\n",
        "    for j in range(0, n-i-1):\n",
        "      if array[j] > array[j+1]:\n",
        "        array[j], array[j+1] = array[j+1], array[j]\n",
        "        cambio = True\n",
        "    if cambio == False:\n",
        "      break\n",
        "\n",
        "\n",
        "bubblesort(lista)\n",
        "print(f\"La lista después de hacer bubble sort: {lista}\")\n"
      ],
      "execution_count": 3,
      "outputs": [
        {
          "output_type": "stream",
          "name": "stdout",
          "text": [
            "Introduzca el número de elementos en la lista: 5\n",
            "Coloque un número: 4\n",
            "Coloque un número: 4\n",
            "Coloque un número: 6\n",
            "Coloque un número: 8\n",
            "Coloque un número: 1\n",
            "La lista antes de hacer bubble sort: [4, 4, 6, 8, 1]\n",
            "La lista después de hacer bubble sort: [1, 4, 4, 6, 8]\n"
          ]
        }
      ]
    },
    {
      "cell_type": "markdown",
      "metadata": {
        "id": "pb_sXf2AlCN4"
      },
      "source": [
        "## **Ejercicio 3: Pila**\n",
        "\n",
        "---\n",
        "\n",
        "Una pila, o stack en ingles, es un tipo de estructura de datos que funciona bajo el principio de Last in First Out (LIFO), es decir Último Adentro, Primero Afuera. Para imaginarse esto imaginense una pila de platos que uno va lavando. Cuando el plato esta limpio uno lo pone encima de la pila de platos, y cuando alguien quiere un plato limpio lo agarra de el tope de la pila. Ahora cambien los platos por datos y tienen el funcionamiento basico de una pila.\n",
        "\n",
        "![lifo.png](https://raw.githubusercontent.com/KevinChenWu/TallerPython/main/images/lifo.png)"
      ]
    },
    {
      "cell_type": "markdown",
      "metadata": {
        "id": "o_WFV4EFnYiU"
      },
      "source": [
        "Hay varias formas de implementar una pila en Python. En este caso se va a usar las funciones estandar de lista para hacerlo. En las siguientes semanas cuando se vea un poco sobre programacion orientada a objetos se podrá volver a implementar la pila de una manera más elegante, utilizando una estructura llamada una lista enlazada simple."
      ]
    },
    {
      "cell_type": "code",
      "metadata": {
        "id": "skzpeaOPlBf0",
        "colab": {
          "base_uri": "https://localhost:8080/"
        },
        "outputId": "3ac140bb-e47e-4153-ff79-2c72943cc0a8",
        "cellView": "form"
      },
      "source": [
        "#@title Solución\n",
        "# Base de programa de GeeksForGeeks.org\n",
        "\n",
        "# Funcion push para agregar datos a la pila\n",
        "def push(stack, dato):\n",
        "  stack.append(dato)\n",
        "\n",
        "# Funcion pop para remover datos de la pila\n",
        "def pop(stack):\n",
        "  try:\n",
        "    element = stack.pop()\n",
        "    return element\n",
        "  except:\n",
        "    print(\"La pila esta vacia, no puede sacar elementos\")\n",
        "\n",
        "# Funcion showStack para desplegar datos en la pila\n",
        "def showStack(stack):\n",
        "  print(f\"La pila actual es:\\n{stack}\")\n",
        "\n",
        "# Funcion stackSize para mostrar tamaño de la pila\n",
        "def stackSize(stack):\n",
        "  size = len(stack)\n",
        "  return size\n",
        "\n",
        "# Funcion empty para vaciar pila\n",
        "def empty(stack):\n",
        "  stack.clear()\n",
        "\n",
        "# Codigo para probar funcionalidad\n",
        "\n",
        "stack = []\n",
        "\n",
        "# Mostramos el tamaño de la pila y probamos si se puede pop cuando esta vacia\n",
        "print(f\"El stack tiene {stackSize(stack)} elementos actualmente.\")\n",
        "print(f\"El valor removido de la pila es: {pop(stack)}\")\n",
        "\n",
        "# Se agregan algunos valores a la pila\n",
        "push(stack, 1)\n",
        "push(stack, 2)\n",
        "push(stack, 3)\n",
        "push(stack, 4)\n",
        "push(stack, 5)\n",
        "\n",
        "# Mostramos el tamaño de la pila y los valores que contiene\n",
        "print(\"El stack tiene\", stackSize(stack), \"elementos actualmente.\")\n",
        "showStack(stack)\n",
        "\n",
        "# Hacemos una division con valores de la pila\n",
        "dividendo = pop(stack)\n",
        "divisor = pop(stack)\n",
        "showStack(stack)\n",
        "\n",
        "# Agregamos el resultado a la pila\n",
        "cociente = dividendo / divisor\n",
        "push(stack, cociente)\n",
        "showStack(stack)\n",
        "\n",
        "# Vaciamos la pila\n",
        "empty(stack)\n",
        "\n",
        "# Llenamos la pila con los valores de 0 a 100\n",
        "for i in range(101):\n",
        "  push(stack, i)\n",
        "\n",
        "showStack(stack)\n",
        "\n",
        "# Sumamos todos los valores entre 0 y 100\n",
        "sumador = 0\n",
        "while stackSize(stack) != 0:\n",
        "  sumador = sumador + pop(stack)\n",
        "\n",
        "print(f\"La suma de los valores apilados es: {sumador}\")\n"
      ],
      "execution_count": 4,
      "outputs": [
        {
          "output_type": "stream",
          "name": "stdout",
          "text": [
            "El stack tiene 0 elementos actualmente.\n",
            "La pila esta vacia, no puede sacar elementos\n",
            "El valor removido de la pila es: None\n",
            "El stack tiene 5 elementos actualmente.\n",
            "La pila actual es:\n",
            "[1, 2, 3, 4, 5]\n",
            "La pila actual es:\n",
            "[1, 2, 3]\n",
            "La pila actual es:\n",
            "[1, 2, 3, 1.25]\n",
            "La pila actual es:\n",
            "[0, 1, 2, 3, 4, 5, 6, 7, 8, 9, 10, 11, 12, 13, 14, 15, 16, 17, 18, 19, 20, 21, 22, 23, 24, 25, 26, 27, 28, 29, 30, 31, 32, 33, 34, 35, 36, 37, 38, 39, 40, 41, 42, 43, 44, 45, 46, 47, 48, 49, 50, 51, 52, 53, 54, 55, 56, 57, 58, 59, 60, 61, 62, 63, 64, 65, 66, 67, 68, 69, 70, 71, 72, 73, 74, 75, 76, 77, 78, 79, 80, 81, 82, 83, 84, 85, 86, 87, 88, 89, 90, 91, 92, 93, 94, 95, 96, 97, 98, 99, 100]\n",
            "La suma de los valores apilados es: 5050\n"
          ]
        }
      ]
    }
  ]
}