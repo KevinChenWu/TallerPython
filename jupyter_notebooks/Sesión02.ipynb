{
  "nbformat": 4,
  "nbformat_minor": 0,
  "metadata": {
    "colab": {
      "name": "Sesión02.ipynb",
      "provenance": []
    },
    "kernelspec": {
      "name": "python3",
      "display_name": "Python 3"
    },
    "language_info": {
      "name": "python"
    }
  },
  "cells": [
    {
      "cell_type": "markdown",
      "metadata": {
        "id": "-26iwB_NhqKy"
      },
      "source": [
        "# Sesión 2 de Python: Introducción al lenguaje\n",
        "\n",
        "\n",
        "---\n",
        "\n"
      ]
    },
    {
      "cell_type": "markdown",
      "metadata": {
        "id": "mDY9BAAMrLAy"
      },
      "source": [
        "![python-logo.png](https://raw.githubusercontent.com/KevinChenWu/TallerPython/main/images/python-logo.png)"
      ]
    },
    {
      "cell_type": "markdown",
      "metadata": {
        "id": "CTIDpGugiJ9y"
      },
      "source": [
        "## Variables\n",
        "\n",
        "\n",
        "---\n",
        "\n",
        "\n",
        "¿Que es una variable en Python? En Python, y en lenguajes de programación en general, una variable es algún dato de un tipo específico. Esto puede variar desde un número entero hasta un hilo de caracteres. Observe los siguientes ejemplos:"
      ]
    },
    {
      "cell_type": "code",
      "metadata": {
        "id": "mEBZx5WbhdHl"
      },
      "source": [
        "entero = 25\n",
        "hilo = \"¿Hola, que tal?\"\n",
        "flotante = 3.14\n",
        "caracter = 'F'\n",
        "booleano = True\n"
      ],
      "execution_count": 1,
      "outputs": []
    },
    {
      "cell_type": "markdown",
      "metadata": {
        "id": "GuEAYHvsjz9k"
      },
      "source": [
        "Hay algunas consideraciones importantes al declarar variables. Noten que:\n",
        "*   Los decimales se separan usando un punto, no una coma\n",
        "*   El orden correcto para declarar es nombre_de_variable = valor\n",
        "*   No se indica cual tipo de valor se ingresa, esto lo maneja Python\n",
        "\n"
      ]
    },
    {
      "cell_type": "markdown",
      "metadata": {
        "id": "vHPtkuCJkYZk"
      },
      "source": [
        "Sobre este último punto: ¿por qué no se indica el tipo de variable a guardar? Esto se debe a uno de las características principales del lenguaje, es **débilmente tipado**. Esto quiere decir que el tipo de variable es algo que determina Python dada la información que recibe. Por ejemplo, Python sabe que si se ingresa un número entero como 25, se debería guardar como una variable tipo entero, mientras que si a este número le agrego algún dígito decimal, como con 25.5, sabe que esto es un número con punto flotante, un tipo de variable distinto."
      ]
    },
    {
      "cell_type": "markdown",
      "metadata": {
        "id": "VTqA7R5vqPja"
      },
      "source": [
        "## Tipos de Datos\n",
        "\n",
        "\n",
        "---\n",
        "\n"
      ]
    },
    {
      "cell_type": "markdown",
      "metadata": {
        "id": "Ea-K5CD7pENA"
      },
      "source": [
        "¿Cuales tipos de datos existen en Python? Pues los más simples son los siguientes:\n",
        "\n",
        "\n",
        "*   Enteros\n",
        "*   Flotantes\n",
        "*   Complejos\n",
        "*   Booleanos\n",
        "*   Hilos de Caracteres\n",
        "\n",
        "Hay algunos tipos de datos además de estos como los dict, tuples, list, range, set, frozenset, memoryview, bytearray, y bytes. Estos no se usarán mucho en el curso, pero sí los relacionados a listas más adelante."
      ]
    },
    {
      "cell_type": "code",
      "metadata": {
        "id": "1Pzfbb1FqmKN"
      },
      "source": [
        "entero = 5\n",
        "flotante = 3.14\n",
        "complejo = 5 + 10j\n",
        "booleano = True\n",
        "hilo = \"Buenas tardes\"\n"
      ],
      "execution_count": 2,
      "outputs": []
    },
    {
      "cell_type": "markdown",
      "metadata": {
        "id": "Cg7ahQ0AqZUS"
      },
      "source": [
        "## Casteo de Datos\n",
        "\n",
        "\n",
        "---\n",
        "\n"
      ]
    },
    {
      "cell_type": "markdown",
      "metadata": {
        "id": "7AqbOBmWl1oB"
      },
      "source": [
        "¿Qué se hace si se ocupa tener un tipo de dato específico? Se utiliza algo llamado \"Casting\" en inglés. Este procedimiento permite convertir un tipo de dato a otro. Es importante recalcar que esto no permitirá guardar, por ejemplo, un carácter como un número entero. Hay ciertas reglas que permiten hacer conversiones lógicas. Por ejemplo, si quisiera convertir un número flotante a un entero:"
      ]
    },
    {
      "cell_type": "code",
      "metadata": {
        "colab": {
          "base_uri": "https://localhost:8080/"
        },
        "id": "BWNxNnMFmpL1",
        "outputId": "a54fc2f4-5e9b-44ec-9eac-52bbc9baff9f"
      },
      "source": [
        "flotante = 5.25\n",
        "entero = int(flotante)  # Convierto el flotante a un entero, que lo redondea\n",
        "\n",
        "print(entero + 2)\n",
        "\n",
        "entero_string = str(entero)  # Convierto el entero a un hilo de caracteres\n",
        "\n",
        "print(f\"{entero_string} es el numero que tengo\")\n"
      ],
      "execution_count": 3,
      "outputs": [
        {
          "output_type": "stream",
          "name": "stdout",
          "text": [
            "7\n",
            "5 es el numero que tengo\n"
          ]
        }
      ]
    },
    {
      "cell_type": "markdown",
      "metadata": {
        "id": "aS-MG273r7XB"
      },
      "source": [
        "Para cerrar con el tema de tipos de datos, ¿cómo se identifica el tipo de dato contenido en una variable? Para eso se tiene una herramienta sumamente útil llamada type()."
      ]
    },
    {
      "cell_type": "code",
      "metadata": {
        "colab": {
          "base_uri": "https://localhost:8080/"
        },
        "id": "LuqiWgo2sey2",
        "outputId": "0849179c-4a1e-4cb8-b5a1-840db515b351"
      },
      "source": [
        "entero = 25\n",
        "hilo = \"Buenas noches\"\n",
        "print(type(hilo))\n",
        "print(type(entero))\n",
        "numero = entero * 2\n",
        "numero\n"
      ],
      "execution_count": 4,
      "outputs": [
        {
          "output_type": "stream",
          "name": "stdout",
          "text": [
            "<class 'str'>\n",
            "<class 'int'>\n"
          ]
        },
        {
          "output_type": "execute_result",
          "data": {
            "text/plain": [
              "50"
            ]
          },
          "metadata": {},
          "execution_count": 4
        }
      ]
    },
    {
      "cell_type": "markdown",
      "metadata": {
        "id": "sNL6CXzCtVZ3"
      },
      "source": [
        "## Entrada y salida de datos\n",
        "\n",
        "---\n",
        "\n"
      ]
    },
    {
      "cell_type": "markdown",
      "metadata": {
        "id": "-1HQPj1F0nbI"
      },
      "source": [
        "Como han notado, se ha utilizado la función print() varias veces durante este taller para mostrar los datos que contiene alguna variable. Este print() es una función de salida de datos. Similarmente, hay funciones que permiten recibir datos llamados funciones de entrada de datos. Se explicará las función input() primero. Teniendo un método de ingreso y salida de datos, se puede empezar a trabajar con programas que son interactivos, y cambian dependiendo de los ingresos del usuario. Este es el primer brinco grande de interactividad que se verá."
      ]
    },
    {
      "cell_type": "code",
      "metadata": {
        "colab": {
          "base_uri": "https://localhost:8080/"
        },
        "id": "LDNOVuyR3knL",
        "outputId": "67c5273e-c542-4098-932d-c75d50889454"
      },
      "source": [
        "altura = input(\"¿Que tan alto es? (metros)\\n\")\n",
        "altura = float(altura)\n",
        "puerta = 1.80\n",
        "diferencia = puerta - altura\n",
        "print(f\"Usted tiene {diferencia:.3f} de espacio para su cabeza.\")\n"
      ],
      "execution_count": 5,
      "outputs": [
        {
          "output_type": "stream",
          "name": "stdout",
          "text": [
            "¿Que tan alto es? (metros)\n",
            "1.85\n",
            "Usted tiene -0.050 de espacio para su cabeza.\n"
          ]
        }
      ]
    },
    {
      "cell_type": "markdown",
      "metadata": {
        "id": "7T6xXyKs4XnV"
      },
      "source": [
        "Como pueden ver, la función input() siempre va a devolver un hilo de caracteres, y si se desea usar para cálculos numéricos es necesario aplicar un cast al tipo de dato deseado. Se ve esto a continuación con un ejemplo que calcula la hipotenusa de un triángulo.\n",
        "\n",
        "![Pitagoras.png](https://raw.githubusercontent.com/KevinChenWu/TallerPython/main/images/pitagoras.png)"
      ]
    },
    {
      "cell_type": "code",
      "metadata": {
        "id": "pyMADn7p46up",
        "colab": {
          "base_uri": "https://localhost:8080/"
        },
        "outputId": "58a61d35-db8f-41f9-9d04-7a4b45fcc8c6"
      },
      "source": [
        "from math import sqrt\n",
        "\n",
        "ladoA = float(input(\"Ingrese el tamaño del un cateto:\\n\"))\n",
        "ladoB = float(input(\"Ingrese el tamaño del otro cateto:\\n\"))\n",
        "\n",
        "hipotenusaC = sqrt((ladoA ** 2) + (ladoB ** 2))\n",
        "print(f\"La hipotenusa del triangulo es de tamaño {hipotenusaC:.4f}\")\n"
      ],
      "execution_count": 6,
      "outputs": [
        {
          "output_type": "stream",
          "name": "stdout",
          "text": [
            "Ingrese el tamaño del un cateto:\n",
            "4\n",
            "Ingrese el tamaño del otro cateto:\n",
            "3\n",
            "La hipotenusa del triangulo es de tamaño 5.0000\n"
          ]
        }
      ]
    },
    {
      "cell_type": "markdown",
      "metadata": {
        "id": "ZQRbVxO56rPD"
      },
      "source": [
        "Con esto se creó nuestro primer programa con **interacción de usuario**. Esto ya es algo que se puede llamar útil, ya que permite fácilmente ingresar dos números y que el programa se encargue de encontrar la solución esperada para un problema!"
      ]
    },
    {
      "cell_type": "code",
      "metadata": {
        "colab": {
          "base_uri": "https://localhost:8080/"
        },
        "id": "cVvH9yRuCZBI",
        "outputId": "1e45ea7d-16e1-41ff-a271-d4024b8918b6"
      },
      "source": [
        "from math import atan\n",
        "from math import degrees\n",
        "\n",
        "ladoA = float(input(\"Ingrese el tamaño del un cateto:\\n\"))\n",
        "ladoB = float(input(\"Ingrese el tamaño del otro cateto:\\n\"))\n",
        "\n",
        "tangente = ladoB / ladoA\n",
        "theta = atan(tangente)\n",
        "\n",
        "print(f\"El angulo theta es igual a: {degrees(theta):.2f}°\")\n"
      ],
      "execution_count": 7,
      "outputs": [
        {
          "output_type": "stream",
          "name": "stdout",
          "text": [
            "Ingrese el tamaño del un cateto:\n",
            "5\n",
            "Ingrese el tamaño del otro cateto:\n",
            "4\n",
            "El angulo theta es igual a: 38.66°\n"
          ]
        }
      ]
    }
  ]
}