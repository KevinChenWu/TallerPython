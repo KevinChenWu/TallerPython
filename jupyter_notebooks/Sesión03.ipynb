{
  "nbformat": 4,
  "nbformat_minor": 0,
  "metadata": {
    "colab": {
      "name": "Sesión03.ipynb",
      "provenance": [],
      "collapsed_sections": [],
      "toc_visible": true
    },
    "kernelspec": {
      "name": "python3",
      "display_name": "Python 3"
    },
    "language_info": {
      "name": "python"
    }
  },
  "cells": [
    {
      "cell_type": "markdown",
      "source": [
        "# Sesión 3 de Python: Operadores y estructuras de control de flujo\n",
        "---\n",
        "Primera versión: Gloriana Mora Villalta\n",
        "\n",
        "Segunda versión: Kevin Chen Wu\n",
        "\n",
        "![ifelse.jpg](https://raw.githubusercontent.com/KevinChenWu/TallerPython/main/images/ifelse.jpg)"
      ],
      "metadata": {
        "id": "9guLVs3aQ1aQ"
      }
    },
    {
      "cell_type": "markdown",
      "metadata": {
        "id": "4QVlwipD144o"
      },
      "source": [
        "# **1. Tipos de operadores**\n",
        "---\n"
      ]
    },
    {
      "cell_type": "markdown",
      "metadata": {
        "id": "jRe8b2lp1QsK"
      },
      "source": [
        "## **1.1 Operadores aritméticos**"
      ]
    },
    {
      "cell_type": "code",
      "metadata": {
        "id": "UyL3m0po4Qcx"
      },
      "source": [
        "numero1 = 2\n",
        "numero2 = 5\n"
      ],
      "execution_count": 1,
      "outputs": []
    },
    {
      "cell_type": "markdown",
      "metadata": {
        "id": "SQoLafmCx0sv"
      },
      "source": [
        "### **1.1.1 Operador de suma**"
      ]
    },
    {
      "cell_type": "code",
      "metadata": {
        "id": "hbUPxTXS29Qh",
        "colab": {
          "base_uri": "https://localhost:8080/"
        },
        "outputId": "1f0b7bf9-5d6e-41cb-b9a5-9a0453e00e7e"
      },
      "source": [
        "suma = numero1 + numero2\n",
        "suma\n"
      ],
      "execution_count": 2,
      "outputs": [
        {
          "output_type": "execute_result",
          "data": {
            "text/plain": [
              "7"
            ]
          },
          "metadata": {},
          "execution_count": 2
        }
      ]
    },
    {
      "cell_type": "markdown",
      "metadata": {
        "id": "Oo8odH-yx8Xr"
      },
      "source": [
        "### **1.1.2 Operador de resta**"
      ]
    },
    {
      "cell_type": "code",
      "metadata": {
        "id": "lnVGuIpv3PEm",
        "colab": {
          "base_uri": "https://localhost:8080/"
        },
        "outputId": "126c7124-de3a-4c92-cee4-e81e19a16cd3"
      },
      "source": [
        "resta = numero2 - numero1 \n",
        "resta\n"
      ],
      "execution_count": 3,
      "outputs": [
        {
          "output_type": "execute_result",
          "data": {
            "text/plain": [
              "3"
            ]
          },
          "metadata": {},
          "execution_count": 3
        }
      ]
    },
    {
      "cell_type": "markdown",
      "metadata": {
        "id": "eMPQHEw2yFC8"
      },
      "source": [
        "### **1.1.3 Operador de multiplicación** "
      ]
    },
    {
      "cell_type": "code",
      "metadata": {
        "colab": {
          "base_uri": "https://localhost:8080/"
        },
        "id": "deyK6k1T3QHF",
        "outputId": "02fc6a54-4976-4fee-ef57-3ac2fa447148"
      },
      "source": [
        "producto = numero1 * numero2\n",
        "producto\n"
      ],
      "execution_count": 4,
      "outputs": [
        {
          "output_type": "execute_result",
          "data": {
            "text/plain": [
              "10"
            ]
          },
          "metadata": {},
          "execution_count": 4
        }
      ]
    },
    {
      "cell_type": "markdown",
      "metadata": {
        "id": "3GF5eGNhy6RD"
      },
      "source": [
        "### **1.1.4 Operador de división** \n",
        "Permite crear expresiones de división, en las que el resultado retornado **incluye decimales**."
      ]
    },
    {
      "cell_type": "code",
      "metadata": {
        "colab": {
          "base_uri": "https://localhost:8080/"
        },
        "id": "_NF_aOQI3Rcg",
        "outputId": "1149db65-1140-46e4-db91-96e6b60935f6"
      },
      "source": [
        "division = numero2 / numero1\n",
        "division\n"
      ],
      "execution_count": 5,
      "outputs": [
        {
          "output_type": "execute_result",
          "data": {
            "text/plain": [
              "2.5"
            ]
          },
          "metadata": {},
          "execution_count": 5
        }
      ]
    },
    {
      "cell_type": "markdown",
      "metadata": {
        "id": "VL--aQQYzCyu"
      },
      "source": [
        "### **1.1.5 Operador de división entera** \n",
        "Permite crear expresiones de división, en las que el resultado retornado **no incluye decimales**, puesto que aplica función piso al resultado de la división."
      ]
    },
    {
      "cell_type": "code",
      "metadata": {
        "colab": {
          "base_uri": "https://localhost:8080/"
        },
        "id": "0vPvrUFM3Uln",
        "outputId": "89f3e80f-9af7-4aec-bc46-8784cd2780b1"
      },
      "source": [
        "division_entera = numero2 // numero1\n",
        "division_entera\n"
      ],
      "execution_count": 6,
      "outputs": [
        {
          "output_type": "execute_result",
          "data": {
            "text/plain": [
              "2"
            ]
          },
          "metadata": {},
          "execution_count": 6
        }
      ]
    },
    {
      "cell_type": "markdown",
      "metadata": {
        "id": "9QwENOB80C0S"
      },
      "source": [
        "### **1.1.6 Operador de módulo** \n",
        "Permite crear expresiones en las que se retorna el residuo o resto de la división entre dos números.\n",
        "\n",
        "![partes-de-la-division.jpg](https://raw.githubusercontent.com/KevinChenWu/TallerPython/main/images/partes-de-la-division.jpg)"
      ]
    },
    {
      "cell_type": "code",
      "metadata": {
        "id": "WHCnAdKk35CJ",
        "colab": {
          "base_uri": "https://localhost:8080/"
        },
        "outputId": "d4a5a143-436a-4821-e8a9-4de64c0196a1"
      },
      "source": [
        "modulo = numero2 % numero1\n",
        "modulo\n"
      ],
      "execution_count": 7,
      "outputs": [
        {
          "output_type": "execute_result",
          "data": {
            "text/plain": [
              "1"
            ]
          },
          "metadata": {},
          "execution_count": 7
        }
      ]
    },
    {
      "cell_type": "markdown",
      "metadata": {
        "id": "6doitNDI0_Nx"
      },
      "source": [
        "### **1.1.7 Operador de exponenciación** \n",
        "Permite crear expresiones de exponenciación.\n",
        "\n",
        "![potencia.jpg](https://raw.githubusercontent.com/KevinChenWu/TallerPython/main/images/potencia.jpg)\n"
      ]
    },
    {
      "cell_type": "code",
      "metadata": {
        "colab": {
          "base_uri": "https://localhost:8080/"
        },
        "id": "BKuxCIU64BBD",
        "outputId": "4b95b428-41d4-44d2-8ca9-685167f71189"
      },
      "source": [
        "potencia = numero2 ** numero1\n",
        "potencia\n"
      ],
      "execution_count": 8,
      "outputs": [
        {
          "output_type": "execute_result",
          "data": {
            "text/plain": [
              "25"
            ]
          },
          "metadata": {},
          "execution_count": 8
        }
      ]
    },
    {
      "cell_type": "markdown",
      "metadata": {
        "id": "wCfuG1hM1g4y"
      },
      "source": [
        "## **1.2 Operadores de comparación**"
      ]
    },
    {
      "cell_type": "code",
      "metadata": {
        "id": "oiUefHWNSxgV"
      },
      "source": [
        "numero1 = 15\n",
        "numero2 = 11\n"
      ],
      "execution_count": 9,
      "outputs": []
    },
    {
      "cell_type": "markdown",
      "metadata": {
        "id": "j4NICzKY4zAO"
      },
      "source": [
        "### **1.2.1 Operador menor que**"
      ]
    },
    {
      "cell_type": "code",
      "metadata": {
        "id": "wTokP91OdtfR",
        "colab": {
          "base_uri": "https://localhost:8080/"
        },
        "outputId": "b2097cdf-96d0-45ee-c765-5f4efbe4e811"
      },
      "source": [
        "menor_que = numero1 < numero2\n",
        "menor_que\n"
      ],
      "execution_count": 10,
      "outputs": [
        {
          "output_type": "execute_result",
          "data": {
            "text/plain": [
              "False"
            ]
          },
          "metadata": {},
          "execution_count": 10
        }
      ]
    },
    {
      "cell_type": "markdown",
      "metadata": {
        "id": "MSM9f7ul5Eti"
      },
      "source": [
        "### **1.2.2 Operador mayor que**"
      ]
    },
    {
      "cell_type": "code",
      "metadata": {
        "id": "Ond8OcfVd3nc",
        "colab": {
          "base_uri": "https://localhost:8080/"
        },
        "outputId": "4e494122-466b-44eb-f0bc-92dc84f590d0"
      },
      "source": [
        "mayor_que = numero1 > numero2\n",
        "mayor_que\n"
      ],
      "execution_count": 11,
      "outputs": [
        {
          "output_type": "execute_result",
          "data": {
            "text/plain": [
              "True"
            ]
          },
          "metadata": {},
          "execution_count": 11
        }
      ]
    },
    {
      "cell_type": "markdown",
      "metadata": {
        "id": "LNIPi6ux5I1y"
      },
      "source": [
        "### **1.2.3 Operador de igualdad**"
      ]
    },
    {
      "cell_type": "code",
      "metadata": {
        "id": "hu8n0XLNd9vu",
        "colab": {
          "base_uri": "https://localhost:8080/"
        },
        "outputId": "fbb3d968-6fde-404f-bf9a-84e94a4cb901"
      },
      "source": [
        "igual_que = numero1 == numero2\n",
        "igual_que\n"
      ],
      "execution_count": 12,
      "outputs": [
        {
          "output_type": "execute_result",
          "data": {
            "text/plain": [
              "False"
            ]
          },
          "metadata": {},
          "execution_count": 12
        }
      ]
    },
    {
      "cell_type": "markdown",
      "metadata": {
        "id": "aFqIu9-R5TgQ"
      },
      "source": [
        "### **1.2.4 Operador de desigualdad**"
      ]
    },
    {
      "cell_type": "code",
      "metadata": {
        "id": "1pGuMclfffFN",
        "colab": {
          "base_uri": "https://localhost:8080/"
        },
        "outputId": "6561a8fe-47bd-4bc8-bc24-16c690bef2fc"
      },
      "source": [
        "diferente_que =  numero1 != numero2\n",
        "diferente_que\n"
      ],
      "execution_count": 13,
      "outputs": [
        {
          "output_type": "execute_result",
          "data": {
            "text/plain": [
              "True"
            ]
          },
          "metadata": {},
          "execution_count": 13
        }
      ]
    },
    {
      "cell_type": "markdown",
      "metadata": {
        "id": "_7Uvt6lY5b9n"
      },
      "source": [
        "### **1.2.5 Operador menor o igual que**"
      ]
    },
    {
      "cell_type": "code",
      "metadata": {
        "id": "Nlj-H1iVeGqJ",
        "colab": {
          "base_uri": "https://localhost:8080/"
        },
        "outputId": "8a1b6fec-7aeb-4764-c43a-7d9c0e607c0d"
      },
      "source": [
        "menor_igual_que =  numero1 <= numero2\n",
        "menor_igual_que\n"
      ],
      "execution_count": 14,
      "outputs": [
        {
          "output_type": "execute_result",
          "data": {
            "text/plain": [
              "False"
            ]
          },
          "metadata": {},
          "execution_count": 14
        }
      ]
    },
    {
      "cell_type": "markdown",
      "metadata": {
        "id": "bMU7H0RJ5grH"
      },
      "source": [
        "### **1.2.6 Operador mayor o igual que**"
      ]
    },
    {
      "cell_type": "code",
      "metadata": {
        "id": "Z6RREpiqeM4A",
        "colab": {
          "base_uri": "https://localhost:8080/"
        },
        "outputId": "00460aa0-e041-4046-cfa2-da4003f5a797"
      },
      "source": [
        "mayor_igual_que =  numero1 >= numero2\n",
        "mayor_igual_que\n"
      ],
      "execution_count": 15,
      "outputs": [
        {
          "output_type": "execute_result",
          "data": {
            "text/plain": [
              "True"
            ]
          },
          "metadata": {},
          "execution_count": 15
        }
      ]
    },
    {
      "cell_type": "markdown",
      "metadata": {
        "id": "OhPsNNgL1Y9U"
      },
      "source": [
        "## **1.3 Operadores lógicos**"
      ]
    },
    {
      "cell_type": "markdown",
      "metadata": {
        "id": "ygF0mOUi70ts"
      },
      "source": [
        "### **1.3.1 Operador AND**\n",
        "La expresión es verdadera cuando **todos** los operandos son verdaderos, en cualquier otro caso es falsa.\n",
        "\n",
        "![and.png](https://raw.githubusercontent.com/KevinChenWu/TallerPython/main/images/and.png)\n"
      ]
    },
    {
      "cell_type": "code",
      "metadata": {
        "id": "f-0xVakJKZta"
      },
      "source": [
        "operando1 = True\n",
        "operando2 = False\n"
      ],
      "execution_count": 16,
      "outputs": []
    },
    {
      "cell_type": "code",
      "metadata": {
        "id": "W4aHSayaevKy",
        "colab": {
          "base_uri": "https://localhost:8080/"
        },
        "outputId": "e5c0b6dc-ef32-4718-aaa8-b3358a235e62"
      },
      "source": [
        "expr_and = operando1 and operando2 \n",
        "expr_and\n"
      ],
      "execution_count": 17,
      "outputs": [
        {
          "output_type": "execute_result",
          "data": {
            "text/plain": [
              "False"
            ]
          },
          "metadata": {},
          "execution_count": 17
        }
      ]
    },
    {
      "cell_type": "markdown",
      "metadata": {
        "id": "l4P3FYCU7tCz"
      },
      "source": [
        "### **1.3.2 Operador OR**\n",
        "La expresión es verdadera cuando **algún** operando es verdadero, solamente si **todos** los operandos son falsos es falsa.\n",
        "\n",
        "![or.png](https://raw.githubusercontent.com/KevinChenWu/TallerPython/main/images/or.png)"
      ]
    },
    {
      "cell_type": "code",
      "metadata": {
        "id": "BSZ7CDNh-bsj"
      },
      "source": [
        "operando1 = True\n",
        "operando2 = False\n"
      ],
      "execution_count": 18,
      "outputs": []
    },
    {
      "cell_type": "code",
      "metadata": {
        "id": "WVae3tGIK_UW",
        "colab": {
          "base_uri": "https://localhost:8080/"
        },
        "outputId": "3986a9c5-4763-4135-e93e-e4b5b347a428"
      },
      "source": [
        "expr_and = operando1 or operando2 \n",
        "expr_and\n"
      ],
      "execution_count": 19,
      "outputs": [
        {
          "output_type": "execute_result",
          "data": {
            "text/plain": [
              "True"
            ]
          },
          "metadata": {},
          "execution_count": 19
        }
      ]
    },
    {
      "cell_type": "markdown",
      "metadata": {
        "id": "Hu0Xclju79Ub"
      },
      "source": [
        "### **1.3.3 Operador NOT**\n",
        "Devuelve la negación de una expresión.\n",
        "\n",
        "![not.png](https://raw.githubusercontent.com/KevinChenWu/TallerPython/main/images/not.png)\n"
      ]
    },
    {
      "cell_type": "code",
      "metadata": {
        "id": "_-FzAtYiLI_K"
      },
      "source": [
        "operando1 = True\n"
      ],
      "execution_count": 20,
      "outputs": []
    },
    {
      "cell_type": "code",
      "metadata": {
        "id": "R4_PSqVd4R68",
        "colab": {
          "base_uri": "https://localhost:8080/"
        },
        "outputId": "a5691d52-c9f6-45e1-d0cf-2ed694866279"
      },
      "source": [
        "expr_not = not operando1\n",
        "expr_not\n"
      ],
      "execution_count": 21,
      "outputs": [
        {
          "output_type": "execute_result",
          "data": {
            "text/plain": [
              "False"
            ]
          },
          "metadata": {},
          "execution_count": 21
        }
      ]
    },
    {
      "cell_type": "markdown",
      "metadata": {
        "id": "TKU5hN6_1sCW"
      },
      "source": [
        "## **1.4 Operadores de asignación**"
      ]
    },
    {
      "cell_type": "markdown",
      "metadata": {
        "id": "1lCt8Plo6CI1"
      },
      "source": [
        "### **1.4.1 Operador de asignación**\n",
        "Indica el valor que debe ser almacenado en una variable."
      ]
    },
    {
      "cell_type": "code",
      "metadata": {
        "id": "tBC4XA1g_DCj"
      },
      "source": [
        "numero = 10\n"
      ],
      "execution_count": 22,
      "outputs": []
    },
    {
      "cell_type": "markdown",
      "metadata": {
        "id": "Qo-dJX8M6XOc"
      },
      "source": [
        "### **1.4.2 Operador de asignación con suma**\n",
        "Indica que el valor que debe ser almacenado en una variable es la suma del contenido de esta variable más un nuevo valor. En otras palabras, sirve para **acumular** sobre el valor de una variable."
      ]
    },
    {
      "cell_type": "code",
      "metadata": {
        "colab": {
          "base_uri": "https://localhost:8080/"
        },
        "id": "IlkxxGDV-wwA",
        "outputId": "b8f75fcc-524f-455f-c4d4-146fa37661c4"
      },
      "source": [
        "numero += 5     # Es lo mismo que: numero = numero + 5\n",
        "numero \n"
      ],
      "execution_count": 23,
      "outputs": [
        {
          "output_type": "execute_result",
          "data": {
            "text/plain": [
              "15"
            ]
          },
          "metadata": {},
          "execution_count": 23
        }
      ]
    },
    {
      "cell_type": "markdown",
      "metadata": {
        "id": "dvs1ubSD7UDM"
      },
      "source": [
        "### **1.4.3 Operador de asignación con resta**\n",
        "Indica que el valor que debe ser almacenado en una variable es la resta del contenido de esta variable menos un nuevo valor."
      ]
    },
    {
      "cell_type": "code",
      "metadata": {
        "colab": {
          "base_uri": "https://localhost:8080/"
        },
        "id": "UxDhAbpV-7SN",
        "outputId": "2ceb40a1-b739-4098-895f-c05df2571b00"
      },
      "source": [
        "numero -= 5     # Es lo mismo que: numero = numero - 5\n",
        "numero \n"
      ],
      "execution_count": 24,
      "outputs": [
        {
          "output_type": "execute_result",
          "data": {
            "text/plain": [
              "10"
            ]
          },
          "metadata": {},
          "execution_count": 24
        }
      ]
    },
    {
      "cell_type": "markdown",
      "metadata": {
        "id": "fYq_1Yxs7eq8"
      },
      "source": [
        "### **1.4.4 Operador de asignación con multiplicación**\n",
        "Indica que el valor que debe ser almacenado en una variable es la multiplicación del contenido de esta variable multiplicado por un nuevo valor. "
      ]
    },
    {
      "cell_type": "code",
      "metadata": {
        "colab": {
          "base_uri": "https://localhost:8080/"
        },
        "id": "tEsC0CzG-_9r",
        "outputId": "484a02ed-df39-4f42-f369-916a1ebac1bf"
      },
      "source": [
        "numero *= 2     # Es lo mismo que: numero = numero * 2\n",
        "numero\n"
      ],
      "execution_count": 25,
      "outputs": [
        {
          "output_type": "execute_result",
          "data": {
            "text/plain": [
              "20"
            ]
          },
          "metadata": {},
          "execution_count": 25
        }
      ]
    },
    {
      "cell_type": "markdown",
      "source": [
        "### **1.4.5 Operador de asignación con división**\n",
        "Indica que el valor que debe ser almacenado en una variable es la división del contenido de esta variable dividido por un nuevo valor. Cabe recordar que no se puede dividir por cero."
      ],
      "metadata": {
        "id": "2rvYv5M02JKo"
      }
    },
    {
      "cell_type": "code",
      "source": [
        "numero /= 2     # Es lo mismo que: numero = numero / 2\n",
        "numero\n"
      ],
      "metadata": {
        "colab": {
          "base_uri": "https://localhost:8080/"
        },
        "id": "X0sg79902j4b",
        "outputId": "0d9e120e-8893-44ce-ca53-c4b09c730d3e"
      },
      "execution_count": 26,
      "outputs": [
        {
          "output_type": "execute_result",
          "data": {
            "text/plain": [
              "10.0"
            ]
          },
          "metadata": {},
          "execution_count": 26
        }
      ]
    },
    {
      "cell_type": "markdown",
      "metadata": {
        "id": "EjTtn4pP70ig"
      },
      "source": [
        "### **1.4.6 Operador de asignación con división entera**\n",
        "Indica que el valor que debe ser almacenado en una variable es la división entera del contenido de esta variable entre un nuevo valor. Cabe recordar que no se puede dividir por cero."
      ]
    },
    {
      "cell_type": "code",
      "metadata": {
        "colab": {
          "base_uri": "https://localhost:8080/"
        },
        "id": "k1Om4CyLBnUV",
        "outputId": "14b2e0b9-7488-4d65-f340-a316a768858f"
      },
      "source": [
        "numero //= 4     # Es lo mismo que: numero = numero // 4\n",
        "numero\n"
      ],
      "execution_count": 27,
      "outputs": [
        {
          "output_type": "execute_result",
          "data": {
            "text/plain": [
              "2.0"
            ]
          },
          "metadata": {},
          "execution_count": 27
        }
      ]
    },
    {
      "cell_type": "markdown",
      "metadata": {
        "id": "o_GYSmA08aib"
      },
      "source": [
        "### **1.4.7 Operador de asignación con exponenciación**\n",
        "Indica que el valor que debe ser almacenado en una variable es el resultado de elevar el contenido de la variable a un nuevo valor."
      ]
    },
    {
      "cell_type": "code",
      "metadata": {
        "colab": {
          "base_uri": "https://localhost:8080/"
        },
        "id": "r8gbP_3_B6PI",
        "outputId": "2861da55-efc1-4f66-d580-8b875fffe151"
      },
      "source": [
        "numero **= 2     # Es lo mismo que: numero = numero ** 2\n",
        "numero\n"
      ],
      "execution_count": 28,
      "outputs": [
        {
          "output_type": "execute_result",
          "data": {
            "text/plain": [
              "4.0"
            ]
          },
          "metadata": {},
          "execution_count": 28
        }
      ]
    },
    {
      "cell_type": "markdown",
      "metadata": {
        "id": "-RuaZfTr8jA7"
      },
      "source": [
        "### **1.4.8 Operador de asignación con módulo**\n",
        "Indica que el valor que debe ser almacenado en una variable es el resultado de sacarle módulo a su contenido."
      ]
    },
    {
      "cell_type": "code",
      "metadata": {
        "colab": {
          "base_uri": "https://localhost:8080/"
        },
        "id": "6VfU_g3nxSed",
        "outputId": "66d0cb8c-29e4-4150-9668-fb605bbaa0b0"
      },
      "source": [
        "# Operador de asignación con modulo. \n",
        "numero %= 4    # Es lo mismo que: numero = numero % 4\n",
        "numero\n"
      ],
      "execution_count": 29,
      "outputs": [
        {
          "output_type": "execute_result",
          "data": {
            "text/plain": [
              "0.0"
            ]
          },
          "metadata": {},
          "execution_count": 29
        }
      ]
    },
    {
      "cell_type": "markdown",
      "metadata": {
        "id": "7A1Xihb-1HVQ"
      },
      "source": [
        "# **2. Estructuras de control**\n",
        "---\n",
        "\n"
      ]
    },
    {
      "cell_type": "markdown",
      "metadata": {
        "id": "t0qN7Z739pLV"
      },
      "source": [
        "## **2.1 Condicionales**"
      ]
    },
    {
      "cell_type": "markdown",
      "metadata": {
        "id": "l6urdAbA-YZM"
      },
      "source": [
        "### **2.1.1 Selección simple: *If*** \n",
        "* Permite condicionar la ejecución de un bloque de código.\n",
        "* Si la condición es verdadera, el bloque se ejecuta. En caso contrario, el bloque no se ejecuta y la ejecución continua fuera de este.\n",
        "* Una condición puede ser: 1) una variable booleana o 2) una expresión que retorne un booleano (expresiones lógicas y/o de comparación).\n",
        "\n",
        "\n",
        "\n",
        "\n",
        "\n",
        "\n",
        "\n"
      ]
    },
    {
      "cell_type": "markdown",
      "metadata": {
        "id": "dIQxYc3BOM6w"
      },
      "source": [
        "#### **Ejemplo #1**\n",
        "Implemente un programa que, dado un número entero, determine si este número es par e imprima un mensaje indicándolo."
      ]
    },
    {
      "cell_type": "code",
      "metadata": {
        "id": "d20UdXNKATsw",
        "colab": {
          "base_uri": "https://localhost:8080/"
        },
        "outputId": "e9b3c3ef-8d4b-4090-e7a1-f419d8572886"
      },
      "source": [
        "numero = 12\n",
        "\n",
        "if numero % 2 == 0:\n",
        "  print(f\"El número {numero} es par.\") \n"
      ],
      "execution_count": 30,
      "outputs": [
        {
          "output_type": "stream",
          "name": "stdout",
          "text": [
            "El número 12 es par.\n"
          ]
        }
      ]
    },
    {
      "cell_type": "markdown",
      "metadata": {
        "id": "ZP1FuLHIQnOt"
      },
      "source": [
        "#### **Ejemplo #2**\n",
        "Implemente un programa que, dada una calificación en el rango de 0 a 100, determine e imprima un mensaje indicando si el estudiante aprobó el curso. Un estudiante aprueba un curso con una calificación mayor o igual a 70.\n",
        "\n"
      ]
    },
    {
      "cell_type": "code",
      "metadata": {
        "id": "YHi8aqi_RR7a",
        "colab": {
          "base_uri": "https://localhost:8080/"
        },
        "outputId": "aa63d038-feb1-4793-d346-324ac1311ad5"
      },
      "source": [
        "nota = 60\n",
        "\n",
        "if nota >= 70:\n",
        "  print(f\"El estudiante aprobó el curso con una calificación de {nota}.\")\n",
        "\n",
        "print(f\"Hola mundo\")\n"
      ],
      "execution_count": 31,
      "outputs": [
        {
          "output_type": "stream",
          "name": "stdout",
          "text": [
            "Hola mundo\n"
          ]
        }
      ]
    },
    {
      "cell_type": "markdown",
      "metadata": {
        "id": "b3f-xH0t-8MW"
      },
      "source": [
        "### **2.1.2 Selección doble: *If Else***\n",
        "* Extensión de la selección simple.\n",
        "* Permite especificar un bloque de código a ejecutar cuando la condición es verdadera y otro cuando la condición es falsa. "
      ]
    },
    {
      "cell_type": "markdown",
      "metadata": {
        "id": "8_ZOXc3MTQ9H"
      },
      "source": [
        "#### **Ejemplo #3**\n",
        "Retomando el ***Ejemplo #1*** de la sección anterior, ¿qué pasa si también se quiere imprimir un mensaje para el caso en que el número es impar?"
      ]
    },
    {
      "cell_type": "code",
      "metadata": {
        "id": "KdqdGJadC0Ml",
        "colab": {
          "base_uri": "https://localhost:8080/"
        },
        "outputId": "5633493f-f48c-4820-ca19-f7ad5b120d55"
      },
      "source": [
        "numero = 13\n",
        "\n",
        "if numero % 2 == 0:\n",
        "  print(f\"El número {numero} es par.\")\n",
        "else:\n",
        "  print(f\"El número {numero} es impar.\")\n"
      ],
      "execution_count": 32,
      "outputs": [
        {
          "output_type": "stream",
          "name": "stdout",
          "text": [
            "El número 13 es impar.\n"
          ]
        }
      ]
    },
    {
      "cell_type": "markdown",
      "metadata": {
        "id": "luGDDHxU_BuV"
      },
      "source": [
        "### **2.1.3 Anidamiento**\n",
        "*  ¿Qué sucede si se necesita evaluar múltiples expresiones y para cada una ejecutar un bloque de código distinto? \n",
        "*  El anidamiento se refiere a colocar un *if* dentro de otro *if*, o bien colocar un *if else* dentro de otro *if else*.\n",
        "\n",
        "\n"
      ]
    },
    {
      "cell_type": "markdown",
      "metadata": {
        "id": "SrCCkGKKG0TS"
      },
      "source": [
        "#### **Ejemplo #4**\n",
        "Implemente un programa que dada una calificación en el rango 0 a 100 determine e imprima la calificación equivalente en el sistema de calificación estadounidense. Las equivalencias están dadas de la siguiente forma:\n",
        "*   Si la calificación es mayor o igual que 90, es equivalente a una A.\n",
        "*   Si la calificación es mayor o igual que 80, es equivalente a una B.\n",
        "*   Si la calificación es mayor o igual que 70, es equivalente a una C.\n",
        "*   Si la calificación es mayor o igual que 60, es equivalente a una D.\n",
        "*   Si la calificación es menor que 60, es equivalente a una F.\n"
      ]
    },
    {
      "cell_type": "code",
      "metadata": {
        "id": "DxK0Ztt_C2qW",
        "colab": {
          "base_uri": "https://localhost:8080/"
        },
        "outputId": "59a3b608-49b5-42f2-f5a6-3db573bea7ae"
      },
      "source": [
        "# Opción 1: ¿Cuántas impresiones hace este programa? ¿Es este el resultado deseado?\n",
        "\n",
        "calificacion = 80\n",
        "\n",
        "if calificacion >= 90 :\n",
        "  print(\"Sacaste una A.\")\n",
        "\n",
        "if calificacion >= 80 :\n",
        "  print(\"Sacaste una B.\")\n",
        "\n",
        "if calificacion >= 70 :\n",
        "  print(\"Sacaste una C.\")\n",
        "\n",
        "if calificacion >= 60 :\n",
        "  print(\"Sacaste una D.\")\n",
        "\n",
        "if calificacion < 60 :\n",
        "  print(\"Sacaste una F.\")\n"
      ],
      "execution_count": 33,
      "outputs": [
        {
          "output_type": "stream",
          "name": "stdout",
          "text": [
            "Sacaste una B.\n",
            "Sacaste una C.\n",
            "Sacaste una D.\n"
          ]
        }
      ]
    },
    {
      "cell_type": "code",
      "metadata": {
        "id": "4xw-xwy6H2lP",
        "colab": {
          "base_uri": "https://localhost:8080/"
        },
        "outputId": "6b227d22-906c-4dbc-e54f-f51069837d17"
      },
      "source": [
        "# Opción 2: Este sí es el resultado deseado :) ¿Por qué ahora sí funciona bien?\n",
        "\n",
        "calificacion = 80\n",
        "\n",
        "if calificacion >= 90:\n",
        "  print(\"Sacaste una A.\")\n",
        "else:\n",
        "  if calificacion >= 80 :\n",
        "    print(\"Sacaste una B.\")\n",
        "  else:\n",
        "    if calificacion >= 70 :\n",
        "      print(\"Sacaste una C.\")\n",
        "    else:\n",
        "        if calificacion >= 60 :\n",
        "            print(\"Sacaste una D.\")\n",
        "        else:\n",
        "            print(\"Sacaste una F.\")\n"
      ],
      "execution_count": 34,
      "outputs": [
        {
          "output_type": "stream",
          "name": "stdout",
          "text": [
            "Sacaste una B.\n"
          ]
        }
      ]
    },
    {
      "cell_type": "code",
      "metadata": {
        "id": "PQP0NibxMfQu",
        "colab": {
          "base_uri": "https://localhost:8080/"
        },
        "outputId": "68b605a6-406c-464e-b698-36d93a263e67"
      },
      "source": [
        "# Opción 3: Lo mismo que la opción anterior, pero más corto y bonito :D\n",
        "\n",
        "calificacion = 80\n",
        "\n",
        "if calificacion >= 90:\n",
        "  print(\"Sacaste una A.\")\n",
        "elif calificacion >= 80 :\n",
        "  print(\"Sacaste una B.\")\n",
        "elif calificacion >= 70 :\n",
        "  print(\"Sacaste una C.\")\n",
        "elif calificacion >= 60 :\n",
        "  print(\"Sacaste una D.\")\n",
        "else:\n",
        "  print(\"Sacaste una F.\")\n"
      ],
      "execution_count": 35,
      "outputs": [
        {
          "output_type": "stream",
          "name": "stdout",
          "text": [
            "Sacaste una B.\n"
          ]
        }
      ]
    },
    {
      "cell_type": "markdown",
      "metadata": {
        "id": "T3MLL97V-Qq4"
      },
      "source": [
        "## **2.2 Ciclos**\n",
        "* Son estructuras de control que permiten ejecutar un bloque de código múltiples veces.\n",
        "* Hay dos tipos de ciclos:\n",
        "  *   Ciclo por condición: *while*\n",
        "  *   Ciclo por contador: *for*\n",
        "\n"
      ]
    },
    {
      "cell_type": "markdown",
      "metadata": {
        "id": "2eEvRGPHWdWL"
      },
      "source": [
        "### **2.2.1 Ciclo por condición: *while***\n",
        "* Permite ejecutar un bloque de código múltiples veces, **mientras** la condición sea verdadera.\n",
        "* Primero se evalúa la condición y, si es verdadera, se ejecuta el bloque de código.\n",
        "* Lo anterior se repite hasta que la condición se vuelva falsa y se rompa el ciclo.\n",
        "* Se usa cuando uno no sabe concretamente cuántas veces se va a ejecutar el bloque de código."
      ]
    },
    {
      "cell_type": "markdown",
      "metadata": {
        "id": "2RuIx27XcKPe"
      },
      "source": [
        "#### **Ejemplo #5**\n",
        "Implemente un programa que reciba como entrada la edad una persona, como un número entero, y determine e imprima si este es mayor o menor de edad. Se considera que una persona es mayor de edad a partir de los 18 años. "
      ]
    },
    {
      "cell_type": "code",
      "metadata": {
        "id": "DU9WUWOEaGZQ",
        "colab": {
          "base_uri": "https://localhost:8080/"
        },
        "outputId": "0feef966-9453-4782-edce-01ddd40936dc"
      },
      "source": [
        "entrada_valida = False\n",
        "\n",
        "while not entrada_valida:\n",
        "  try:\n",
        "    edad = int( input(\"Ingrese su edad: \") )\n",
        "    entrada_valida = True\n",
        "  except:\n",
        "    print(f\"Error: Entrada inválida, debe ingresar un número entero.\")\n",
        "\n",
        "if edad >= 18:\n",
        "  print(f\"La persona es mayor de edad.\")\n",
        "else:\n",
        "  print(f\"La persona es menor de edad.\")\n"
      ],
      "execution_count": 36,
      "outputs": [
        {
          "output_type": "stream",
          "name": "stdout",
          "text": [
            "Ingrese su edad: 50\n",
            "La persona es mayor de edad.\n"
          ]
        }
      ]
    },
    {
      "cell_type": "markdown",
      "metadata": {
        "id": "b_RzrToZW1Ed"
      },
      "source": [
        "### **2.2.2 Ciclo por contador: *for***\n",
        "* Permite ejecutar un bloque de código una cantidad **determinada** de veces, utilizando una variable contadora.\n",
        "* Cuando se manipula listas, normalente se usa un ciclo for ya que se sabe concretamente cuántas veces se ejecutará el bloque de código."
      ]
    },
    {
      "cell_type": "markdown",
      "metadata": {
        "id": "d9bVbjx9xjXt"
      },
      "source": [
        "#### **Ejemplo #6**\n",
        "Implemente un programa que imprima los números impares en el rango [inicio, fin]. "
      ]
    },
    {
      "cell_type": "code",
      "metadata": {
        "id": "GkRrK3thzrwm"
      },
      "source": [
        "inicio = 1\n",
        "fin = 15\n",
        "\n",
        "#[inicio, fin]"
      ],
      "execution_count": 37,
      "outputs": []
    },
    {
      "cell_type": "markdown",
      "source": [
        "***range()*** es una función de Python donde recibe como parámetro *inicio*, *fin* y *pasos*, donde se excluye el valor de *fin*. Por ejemplo:\n",
        "\n",
        "- range(1, 9, 2) genera la siguiente secuencia de números:<br>1, 3, 5, 7\n",
        "- range(1, 10, 2) genera la siguiente secuencia:<br> 1, 3, 5, 7, 9\n",
        "\n",
        "Un detalle importante de mencionar es que *range()* solo trabaja con números enteros."
      ],
      "metadata": {
        "id": "LJdyJ4VXALdq"
      }
    },
    {
      "cell_type": "code",
      "metadata": {
        "id": "gLaHqA8txqbS",
        "colab": {
          "base_uri": "https://localhost:8080/"
        },
        "outputId": "577398fe-fabd-4f31-df48-ee802c8d6e42"
      },
      "source": [
        "# Imprimiendo de inicio a fin.\n",
        "for numero in range(inicio, fin+1, 2) :\n",
        "  print(numero)\n"
      ],
      "execution_count": 38,
      "outputs": [
        {
          "output_type": "stream",
          "name": "stdout",
          "text": [
            "1\n",
            "3\n",
            "5\n",
            "7\n",
            "9\n",
            "11\n",
            "13\n",
            "15\n"
          ]
        }
      ]
    },
    {
      "cell_type": "code",
      "metadata": {
        "id": "MC7so0LmyXkW",
        "colab": {
          "base_uri": "https://localhost:8080/"
        },
        "outputId": "e2992a92-9c15-4288-9cc5-6adf40dc94ef"
      },
      "source": [
        "# Imprimiendo de fin a inicio. \n",
        "for numero in range(fin, inicio-1, -2) :\n",
        "  print(numero)\n"
      ],
      "execution_count": 39,
      "outputs": [
        {
          "output_type": "stream",
          "name": "stdout",
          "text": [
            "15\n",
            "13\n",
            "11\n",
            "9\n",
            "7\n",
            "5\n",
            "3\n",
            "1\n"
          ]
        }
      ]
    },
    {
      "cell_type": "markdown",
      "metadata": {
        "id": "feVIzpZqXtRi"
      },
      "source": [
        "#### **Ejemplo #7**\n",
        "Implemente un programa que dado un número calcule su factorial. El factorial de un número *n* se calcula como:\n",
        "> *n * (n-1) * (n-2) * (n-3) * ... * 1*\n",
        "\n"
      ]
    },
    {
      "cell_type": "code",
      "metadata": {
        "id": "BqkpcpMCXn98",
        "colab": {
          "base_uri": "https://localhost:8080/"
        },
        "outputId": "dcc3f7c7-1379-4305-8a5a-973e54631c64"
      },
      "source": [
        "numero = 5\n",
        "factorial = 1\n",
        " \n",
        "for numero_actual in range(numero, 0, -1) : \n",
        "  factorial *= numero_actual\n",
        "\n",
        "print(f\"factorial({numero}) = {factorial}\")\n"
      ],
      "execution_count": 40,
      "outputs": [
        {
          "output_type": "stream",
          "name": "stdout",
          "text": [
            "factorial(5) = 120\n"
          ]
        }
      ]
    },
    {
      "cell_type": "markdown",
      "metadata": {
        "id": "NK9wfu601XhW"
      },
      "source": [
        "#### **Ejemplos #8**\n",
        "Implemente un programa que imprima las tablas de multiplicar del 5, 6 y 7. Incluya solo las primeras 10 multiplicaciones para cada tabla."
      ]
    },
    {
      "cell_type": "code",
      "metadata": {
        "id": "4zUWXEAs1Wz8",
        "colab": {
          "base_uri": "https://localhost:8080/"
        },
        "outputId": "45823432-1742-448e-e54f-942a6b852a66"
      },
      "source": [
        "tabla_inicial = 5\n",
        "tabla_final = 7\n",
        "cant_multiplicaciones = 10\n",
        "\n",
        "for numero1 in range(tabla_inicial, tabla_final+1):\n",
        "  for numero2 in range(1, cant_multiplicaciones+1):\n",
        "    print(f\"{numero1} X {numero2} = {numero1 * numero2}\")\n",
        "  print(\"\\n\")\n"
      ],
      "execution_count": 41,
      "outputs": [
        {
          "output_type": "stream",
          "name": "stdout",
          "text": [
            "5 X 1 = 5\n",
            "5 X 2 = 10\n",
            "5 X 3 = 15\n",
            "5 X 4 = 20\n",
            "5 X 5 = 25\n",
            "5 X 6 = 30\n",
            "5 X 7 = 35\n",
            "5 X 8 = 40\n",
            "5 X 9 = 45\n",
            "5 X 10 = 50\n",
            "\n",
            "\n",
            "6 X 1 = 6\n",
            "6 X 2 = 12\n",
            "6 X 3 = 18\n",
            "6 X 4 = 24\n",
            "6 X 5 = 30\n",
            "6 X 6 = 36\n",
            "6 X 7 = 42\n",
            "6 X 8 = 48\n",
            "6 X 9 = 54\n",
            "6 X 10 = 60\n",
            "\n",
            "\n",
            "7 X 1 = 7\n",
            "7 X 2 = 14\n",
            "7 X 3 = 21\n",
            "7 X 4 = 28\n",
            "7 X 5 = 35\n",
            "7 X 6 = 42\n",
            "7 X 7 = 49\n",
            "7 X 8 = 56\n",
            "7 X 9 = 63\n",
            "7 X 10 = 70\n",
            "\n",
            "\n"
          ]
        }
      ]
    }
  ]
}