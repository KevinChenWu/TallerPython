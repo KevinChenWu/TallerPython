{
  "nbformat": 4,
  "nbformat_minor": 0,
  "metadata": {
    "colab": {
      "name": "Sesión06.ipynb",
      "provenance": [],
      "collapsed_sections": []
    },
    "kernelspec": {
      "name": "python3",
      "display_name": "Python 3"
    },
    "language_info": {
      "name": "python"
    }
  },
  "cells": [
    {
      "cell_type": "markdown",
      "source": [
        "#Sesión 6 de Python: Funciones"
      ],
      "metadata": {
        "id": "vqxwJfTD4755"
      }
    },
    {
      "cell_type": "markdown",
      "metadata": {
        "id": "hdMbIkfIcHR1"
      },
      "source": [
        "![funcion.jpg](https://raw.githubusercontent.com/KevinChenWu/TallerPython/main/images/funcion.jpg)"
      ]
    },
    {
      "cell_type": "markdown",
      "metadata": {
        "id": "srQD5mT5ANEV"
      },
      "source": [
        "# **Introducción a funciones**\n",
        "\n",
        "## ¿Qué es una función?\n",
        "\n",
        "  Una función es una sección de un programa que calcula un valor de manera independiente al resto del programa.  Nos permiten dividir el trabajo que hace un programa, en tareas más pequeñas separadas de la parte principal.\n",
        "\n",
        "## Características de una función (Estructura):\n",
        "\n",
        "\n",
        "\n",
        "1.   Inicio con el comando **def**\n",
        "2.   Nombre de la función\n",
        "3.   Paréntesis \"**()**\". Dentro de este se pueden colocar los parámetros de entrada.\n",
        "4.   Dos puntos \"**:**\"\n",
        "5.   Bloque de código. En este se especifica el trabajo que realizará la función. Esta sección debe ir **identada**.\n",
        "6.    Sentencia de retorno (**return**). Este sirve como medio de salida del resultado de la función. Nota: es opcional el uso del retorno. Esta sección debe ir ***identada***."
      ]
    },
    {
      "cell_type": "markdown",
      "metadata": {
        "id": "bJkN-JzKC5RM"
      },
      "source": [
        "# Ejemplos prácticos \n",
        "\n",
        "## La importancia de la identación:\n"
      ]
    },
    {
      "cell_type": "code",
      "metadata": {
        "colab": {
          "base_uri": "https://localhost:8080/"
        },
        "id": "BBryJahEEtZE",
        "outputId": "7ddb46ab-d48c-45c6-c771-94d3a58116dc"
      },
      "source": [
        "def dentro():\n",
        "  print(\"Esto está dentro de la función\")\n",
        "  print(\"Esto sigue dentro\")\n",
        "print(\"Esto está afuera\")\n"
      ],
      "execution_count": 1,
      "outputs": [
        {
          "output_type": "stream",
          "name": "stdout",
          "text": [
            "Esto está afuera\n"
          ]
        }
      ]
    },
    {
      "cell_type": "code",
      "metadata": {
        "colab": {
          "base_uri": "https://localhost:8080/"
        },
        "id": "N1KCRwq_Hj9w",
        "outputId": "2defb051-3bb3-4abf-d6d4-60cb95b9f562"
      },
      "source": [
        "dentro()\n"
      ],
      "execution_count": 2,
      "outputs": [
        {
          "output_type": "stream",
          "name": "stdout",
          "text": [
            "Esto está dentro de la función\n",
            "Esto sigue dentro\n"
          ]
        }
      ]
    },
    {
      "cell_type": "code",
      "metadata": {
        "id": "2OxSre-JI05d"
      },
      "source": [
        "def ver(x):\n",
        "  print(x)\n",
        "\n",
        "def ver2(valor_imprimir):\n",
        "  print(valor_imprimir)\n"
      ],
      "execution_count": 3,
      "outputs": []
    },
    {
      "cell_type": "code",
      "metadata": {
        "colab": {
          "base_uri": "https://localhost:8080/"
        },
        "id": "Mn1s9aHlJKKF",
        "outputId": "ef087567-e2ae-4273-ee21-5cdf9f739cde"
      },
      "source": [
        "ver(64)\n",
        "ver2(89)"
      ],
      "execution_count": 4,
      "outputs": [
        {
          "output_type": "stream",
          "name": "stdout",
          "text": [
            "64\n",
            "89\n"
          ]
        }
      ]
    },
    {
      "cell_type": "code",
      "metadata": {
        "id": "rZfKsc5rJ4XW"
      },
      "source": [
        "def operimp(y):\n",
        "  print(f\"{y} se encuentra dentro de la función\")\n",
        "  return y*4\n"
      ],
      "execution_count": 5,
      "outputs": []
    },
    {
      "cell_type": "code",
      "metadata": {
        "colab": {
          "base_uri": "https://localhost:8080/"
        },
        "id": "Dx85Uok1KFEL",
        "outputId": "96fdfdd7-f3f2-44bd-f60e-2185be7188f8"
      },
      "source": [
        "r = operimp(10)\n"
      ],
      "execution_count": 6,
      "outputs": [
        {
          "output_type": "stream",
          "name": "stdout",
          "text": [
            "10 se encuentra dentro de la función\n"
          ]
        }
      ]
    },
    {
      "cell_type": "code",
      "metadata": {
        "colab": {
          "base_uri": "https://localhost:8080/"
        },
        "id": "O19tFNQbK7rq",
        "outputId": "ca164353-8462-4c51-e132-2ab0109519b0"
      },
      "source": [
        "print(r)\n"
      ],
      "execution_count": 7,
      "outputs": [
        {
          "output_type": "stream",
          "name": "stdout",
          "text": [
            "40\n"
          ]
        }
      ]
    },
    {
      "cell_type": "markdown",
      "metadata": {
        "id": "V-yw19bJD3ut"
      },
      "source": [
        "### Se desea realizar la siguiente función:\n",
        "\n",
        "![ejemplo.gif](https://raw.githubusercontent.com/KevinChenWu/TallerPython/main/images/ejemplo.gif)"
      ]
    },
    {
      "cell_type": "code",
      "metadata": {
        "id": "huwTdcRK13uP"
      },
      "source": [
        "# Suma y resta\n",
        "def suma(x, y):\n",
        "    resultado = x + y\n",
        "    return resultado\n",
        "\n",
        "# Multiplicación\n",
        "def multi(x, y):\n",
        "    return x * y\n",
        "\n",
        "# División\n",
        "def div(x, y):\n",
        "  return x / y\n"
      ],
      "execution_count": 8,
      "outputs": []
    },
    {
      "cell_type": "code",
      "metadata": {
        "colab": {
          "base_uri": "https://localhost:8080/"
        },
        "id": "o839-Ab22y9N",
        "outputId": "19594d06-66b9-43ec-bbba-db6dd0c8c9d7"
      },
      "source": [
        "a = suma(45, 17)  # Se realiza la suma de 45 + 17\n",
        "b = suma(34, -56) # Se realiza la resta de 34 - 56\n",
        "c = multi(a, b)   # Se multiplica los resultados guardados en a y b\n",
        "f = div(c, 20)    # Se divide el resultado guardado en c entre 20\n",
        "\n",
        "print(f\"El valor de (45+17) es: {a}\")\n",
        "print(f\"El valor de (34-56) es: {b}\")\n",
        "print(f\"El valor de ({a} * {b}) es: {c}\")\n",
        "print(f\"El valor final de la función es ({c} / 20): {f}\")\n"
      ],
      "execution_count": 9,
      "outputs": [
        {
          "output_type": "stream",
          "name": "stdout",
          "text": [
            "El valor de (45+17) es: 62\n",
            "El valor de (34-56) es: -22\n",
            "El valor de (62 * -22) es: -1364\n",
            "El valor final de la función es (-1364 / 20): -68.2\n"
          ]
        }
      ]
    },
    {
      "cell_type": "markdown",
      "metadata": {
        "id": "YAw6rPzzH4r9"
      },
      "source": [
        "## Calculadora de peso:\n",
        "\n",
        "Se realiza una función que calcula el índice de masa corporal al introducir los datos personales, para identificar si la persona presenta sobrepeso o no.\n",
        "\n",
        "![calcu-imc.jpg](https://raw.githubusercontent.com/KevinChenWu/TallerPython/main/images/calcu-imc.jpg)\n"
      ]
    },
    {
      "cell_type": "code",
      "metadata": {
        "id": "JpAOslrwLVUN"
      },
      "source": [
        "# Datos personales\n",
        "# En esta sección se pretende introducir los datos de las personas y guardarlos\n",
        "# en variables para su posterior uso en la función.\n",
        "nombre1 = 'Martín'\n",
        "peso_kg1 = 65\n",
        "altura_m1 = 1.80\n",
        "\n",
        "nombre2 = 'Luis'\n",
        "peso_kg2 = 90\n",
        "altura_m2 = 1.65\n",
        "\n",
        "nombre3 = 'Sofía'\n",
        "peso_kg3 = 55\n",
        "altura_m3 = 1.50\n"
      ],
      "execution_count": 10,
      "outputs": []
    },
    {
      "cell_type": "code",
      "metadata": {
        "id": "d8rh_vMfMkFU"
      },
      "source": [
        "def cal_peso(nombre, peso_kg, altura_m):\n",
        "  # Se procede a hacer una divsión del peso de la persona entre su altura\n",
        "  # al cuadrado (altura^2)\n",
        "  IMC = peso_kg / (altura_m ** 2)\n",
        "  print(f\"El IMC de {nombre} es: {IMC}\")\n",
        "  if IMC < 25:\n",
        "    return nombre + \" no presenta sobrepeso.\"\n",
        "  else: # Si el IMC >= 25\n",
        "    return nombre + \" presenta sobrepeso.\"\n"
      ],
      "execution_count": 11,
      "outputs": []
    },
    {
      "cell_type": "code",
      "metadata": {
        "colab": {
          "base_uri": "https://localhost:8080/"
        },
        "id": "Yg5EaoogO4Vg",
        "outputId": "8d643f43-c387-4661-eeae-eefa39599387"
      },
      "source": [
        "caso1 = cal_peso(nombre1, peso_kg1, altura_m1) # Caso de Martín\n",
        "caso2 = cal_peso(nombre2, peso_kg2, altura_m2) # Caso de Luis\n",
        "caso3 = cal_peso(nombre3, peso_kg3, altura_m3) # Caso de Sofía\n"
      ],
      "execution_count": 12,
      "outputs": [
        {
          "output_type": "stream",
          "name": "stdout",
          "text": [
            "El IMC de Martín es: 20.061728395061728\n",
            "El IMC de Luis es: 33.057851239669425\n",
            "El IMC de Sofía es: 24.444444444444443\n"
          ]
        }
      ]
    },
    {
      "cell_type": "code",
      "metadata": {
        "colab": {
          "base_uri": "https://localhost:8080/"
        },
        "id": "r3EZCSK3PX17",
        "outputId": "bf28cb02-4b99-4613-e1ed-7ac8a0a35367"
      },
      "source": [
        "# Se imprimen los resultados de los return de la función para cada caso.\n",
        "print(caso1)\n",
        "print(caso2)\n",
        "print(caso3)\n"
      ],
      "execution_count": 13,
      "outputs": [
        {
          "output_type": "stream",
          "name": "stdout",
          "text": [
            "Martín no presenta sobrepeso.\n",
            "Luis presenta sobrepeso.\n",
            "Sofía no presenta sobrepeso.\n"
          ]
        }
      ]
    },
    {
      "cell_type": "markdown",
      "metadata": {
        "id": "WcZe3R6dgqew"
      },
      "source": [
        "## Validación de correo:\n",
        "\n",
        "En este ejercicio se pretende introducir un correo electrónico y que la función verifique si este es válido o no, mediante la lectura del mismo y encontrar el '@' dentro del string de caracteres.\n",
        "\n",
        "<img src=\"https://raw.githubusercontent.com/KevinChenWu/TallerPython/main/images/email.png\" alt=\"email.png\" width=\"300\"/>"
      ]
    },
    {
      "cell_type": "code",
      "metadata": {
        "id": "8yMwWDBEg2Rb"
      },
      "source": [
        "def validar(correo):\n",
        "  arroba='@'\n",
        "  estado_email=False # Está en falso ya que aún no se ha leído el correo.\n",
        "  for c in correo:\n",
        "    if c==arroba and not estado_email:\n",
        "      estado_email=True # Existe un @ en la dirección de correo electrónico.\n",
        "  return estado_email\n"
      ],
      "execution_count": 14,
      "outputs": []
    },
    {
      "cell_type": "code",
      "metadata": {
        "colab": {
          "base_uri": "https://localhost:8080/"
        },
        "id": "960N1r76h_vx",
        "outputId": "08f65e5a-790b-4e58-f805-883d79ebf6df"
      },
      "source": [
        "# Se crea un input paara la introducción manual del correo.\n",
        "direccion=input('Ingrese su email:')\n",
        "# En caso de ser correcto, el if se valida al estar el estado_email en True\n",
        "if validar(direccion):\n",
        "  print('El correo es válido')\n",
        "# En caso de ser incorrecto, el else se valida al estar el estado_email en False\n",
        "else:\n",
        "  print('El correo es inválido')\n"
      ],
      "execution_count": 16,
      "outputs": [
        {
          "output_type": "stream",
          "name": "stdout",
          "text": [
            "Ingrese su email:asgdbuhabds@gmail.com\n",
            "El correo es válido\n"
          ]
        }
      ]
    },
    {
      "cell_type": "markdown",
      "metadata": {
        "id": "t_T3eOayPdTx"
      },
      "source": [
        "# Ejercicio adicional desarrollado en el taller"
      ]
    },
    {
      "cell_type": "code",
      "metadata": {
        "id": "2A7I_skqOBRp",
        "colab": {
          "base_uri": "https://localhost:8080/"
        },
        "outputId": "47330ab0-a6f3-4531-f448-0d93edcbccb0"
      },
      "source": [
        "import math\n",
        "\n",
        "def suma(numA, numB):\n",
        "  return numA + numB\n",
        "\n",
        "def resta(numA, numB):\n",
        "  return numA - numB\n",
        "\n",
        "def division(numA, numB):\n",
        "  return numA / numB\n",
        "\n",
        "def multiplicacion(numA,numB):\n",
        "  return numA * numB\n",
        "\n",
        "def raiz(numA):\n",
        "  return math.sqrt(numA)\n",
        "\n",
        "def calculadora(operador, numA, numB):\n",
        "  if operador == \"+\":\n",
        "    print(suma(numA,numB))\n",
        "  elif operador == \"-\":\n",
        "    print(resta(numA,numB))\n",
        "  elif operador == \"/\":\n",
        "    print(division(numA,numB))\n",
        "  elif operador == \"*\":\n",
        "    print(multiplicacion(numA,numB))\n",
        "  elif operador == \"sqrt\":\n",
        "    print(raiz(numA))\n",
        "  else:\n",
        "    print(\"El operador no es valido\")\n",
        "\n",
        "calculadora(\"+\", 1, 1)\n",
        "calculadora(\"-\", 1, 1)\n",
        "calculadora(\"/\", 1, 2)\n",
        "calculadora(\"*\", 5, 5)\n",
        "calculadora(\"sqrt\", 2, 0)\n",
        "calculadora(\"hola\", 2, 0)\n"
      ],
      "execution_count": 18,
      "outputs": [
        {
          "output_type": "stream",
          "name": "stdout",
          "text": [
            "2\n",
            "0\n",
            "0.5\n",
            "25\n",
            "1.4142135623730951\n",
            "El operador no es valido\n"
          ]
        }
      ]
    }
  ]
}