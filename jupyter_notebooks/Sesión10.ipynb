{
  "nbformat": 4,
  "nbformat_minor": 0,
  "metadata": {
    "colab": {
      "name": "Sesión10.ipynb",
      "provenance": [],
      "toc_visible": true
    },
    "kernelspec": {
      "name": "python3",
      "display_name": "Python 3"
    },
    "language_info": {
      "name": "python"
    }
  },
  "cells": [
    {
      "cell_type": "markdown",
      "metadata": {
        "id": "lkXUOJ9TR5do"
      },
      "source": [
        "#Sesión 10: Práctica 3\n",
        "\n",
        "---\n",
        "![practice.jpg](https://raw.githubusercontent.com/KevinChenWu/TallerPython/main/images/practice.jpg)"
      ]
    },
    {
      "cell_type": "markdown",
      "metadata": {
        "id": "GfDdP5SzF66U"
      },
      "source": [
        "##**Ejercicio 1: Laberinto de Raton**"
      ]
    },
    {
      "cell_type": "code",
      "metadata": {
        "id": "0sI0t53AR4J5",
        "colab": {
          "base_uri": "https://localhost:8080/"
        },
        "outputId": "ccb02c02-dd41-4e1c-9a07-798f5441c9b7"
      },
      "source": [
        "# Python3 program to solve Rat in a Maze\n",
        "# problem using backracking\n",
        "\n",
        "# Maze size\n",
        "N = 8\n",
        "\n",
        "# A utility function to print solution matrix sol\n",
        "def printSolution( sol ):\n",
        "\t\n",
        "  for i in sol:\n",
        "    for j in i:\n",
        "        if j == 1:\n",
        "          print(str(\"R\") + \" \", end =\"\")\n",
        "        else:\n",
        "          print(str(j) + \" \", end =\"\")\n",
        "    print(\"\")\n",
        "\n",
        "# A utility function to check if x, y is valid\n",
        "# index for N * N Maze\n",
        "def isSafe( maze, x, y ):\n",
        "\tif x >= 0 and x < N and y >= 0 and y < N and maze[x][y] == 1:\n",
        "\t\treturn True\n",
        "\t\n",
        "\treturn False\n",
        "\n",
        "\"\"\" This function solves the Maze problem using Backtracking.\n",
        "\tIt mainly uses solveMazeUtil() to solve the problem. It\n",
        "\treturns false if no path is possible, otherwise return\n",
        "\ttrue and prints the path in the form of 1s. Please note\n",
        "\tthat there may be more than one solutions, this function\n",
        "\tprints one of the feasable solutions. \"\"\"\n",
        "def solveMaze( maze ):\n",
        "\t\n",
        "\t# Creating a 4 * 4 2-D list\n",
        "\tsol = [ [ 0 for j in range(8) ] for i in range(8) ]\n",
        "\t\n",
        "\tif solveMazeUtil(maze, 0, 0, sol) == False:\n",
        "\t\tprint(\"Solution doesn't exist\");\n",
        "\t\treturn False\n",
        "\t\n",
        "\tprintSolution(sol)\n",
        "\treturn True\n",
        "\t\n",
        "# A recursive utility function to solve Maze problem\n",
        "def solveMazeUtil(maze, x, y, sol):\n",
        "\t\n",
        "\t# if (x, y is goal) return True\n",
        "\tif x == N - 1 and y == N - 1 and maze[x][y]== 1:\n",
        "\t\tsol[x][y] = 1\n",
        "\t\treturn True\n",
        "\t\t\n",
        "\t# Check if maze[x][y] is valid\n",
        "\tif isSafe(maze, x, y) == True:\n",
        "\t\t# Check if the current block is already part of solution path.\n",
        "\t\tif sol[x][y] == 1:\n",
        "\t\t\treturn False\n",
        "\t\t\n",
        "\t\t# mark x, y as part of solution path\n",
        "\t\tsol[x][y] = 1\n",
        "\t\t\n",
        "\t\t# Move forward in x direction\n",
        "\t\tif solveMazeUtil(maze, x + 1, y, sol) == True:\n",
        "\t\t\treturn True\n",
        "\t\t\t\n",
        "\t\t# If moving in x direction doesn't give solution\n",
        "\t\t# then Move down in y direction\n",
        "\t\tif solveMazeUtil(maze, x, y + 1, sol) == True:\n",
        "\t\t\treturn True\n",
        "\t\t\n",
        "\t\t# If moving in y direction doesn't give solution then\n",
        "\t\t# Move back in x direction\n",
        "\t\tif solveMazeUtil(maze, x - 1, y, sol) == True:\n",
        "\t\t\treturn True\n",
        "\t\t\t\n",
        "\t\t# If moving in backwards in x direction doesn't give solution\n",
        "\t\t# then Move upwards in y direction\n",
        "\t\tif solveMazeUtil(maze, x, y - 1, sol) == True:\n",
        "\t\t\treturn True\n",
        "\t\t\n",
        "\t\t# If none of the above movements work then\n",
        "\t\t# BACKTRACK: unmark x, y as part of solution path\n",
        "\t\tsol[x][y] = 0\n",
        "\t\treturn False\n",
        "\n",
        "# Driver program to test above function\n",
        "if __name__ == \"__main__\":\n",
        "\t# Initialising the maze\n",
        "\tmaze = [ [1, 0, 0, 0, 1, 1, 0, 0],\n",
        "\t\t\t     [1, 1, 1, 1, 1, 0, 1, 0],\n",
        "\t\t\t     [0, 1, 0, 0, 0, 0, 1, 0],\n",
        "\t\t\t     [1, 1, 1, 1, 0, 0, 1, 1],\n",
        "           [1, 0, 0, 0, 1, 1, 1, 0],\n",
        "\t\t\t     [1, 1, 1, 1, 1, 0, 1, 0],\n",
        "\t\t\t     [0, 1, 0, 0, 0, 0, 1, 0],\n",
        "\t\t\t     [1, 1, 1, 1, 0, 0, 1, 1], ]\n",
        "\t\t\t\n",
        "\tsolveMaze(maze)\n",
        "\n",
        "# This code is contributed by Shiv Shankar\n"
      ],
      "execution_count": 1,
      "outputs": [
        {
          "output_type": "stream",
          "name": "stdout",
          "text": [
            "R 0 0 0 0 0 0 0 \n",
            "R R 0 0 0 0 0 0 \n",
            "0 R 0 0 0 0 0 0 \n",
            "R R 0 0 0 0 0 0 \n",
            "R 0 0 0 R R R 0 \n",
            "R R R R R 0 R 0 \n",
            "0 0 0 0 0 0 R 0 \n",
            "0 0 0 0 0 0 R R \n"
          ]
        }
      ]
    }
  ]
}