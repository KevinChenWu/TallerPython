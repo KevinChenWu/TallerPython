{
  "nbformat": 4,
  "nbformat_minor": 0,
  "metadata": {
    "colab": {
      "name": "Sesión04.ipynb",
      "provenance": [],
      "collapsed_sections": [],
      "toc_visible": true
    },
    "kernelspec": {
      "name": "python3",
      "display_name": "Python 3"
    },
    "language_info": {
      "name": "python"
    }
  },
  "cells": [
    {
      "cell_type": "markdown",
      "metadata": {
        "id": "VK5yPHQywWrp"
      },
      "source": [
        "# Sesión 4: Práctica 1\n",
        "\n",
        "\n",
        "\n",
        "\n",
        "---\n",
        "![practice.jpg](https://raw.githubusercontent.com/KevinChenWu/TallerPython/main/images/practice.jpg)"
      ]
    },
    {
      "cell_type": "markdown",
      "metadata": {
        "id": "ymmVinGA7fnQ"
      },
      "source": [
        "##**Ejercicio 1: Mínimo**\n",
        "---\n",
        "Implemente un programa que calcule el mínimo de un conjunto de 2 o más números. El programa debe solicitar primero la cantidad **n** de números a leer. Luego, el programa lee los **n** números. Por último, muestra el menor\n",
        "de los números introducidos (sin contar **n**).\n"
      ]
    },
    {
      "cell_type": "code",
      "metadata": {
        "id": "x62Z_gq_7byi",
        "colab": {
          "base_uri": "https://localhost:8080/"
        },
        "outputId": "1ac3a027-4d8d-4475-e813-b34925ae49f7",
        "cellView": "form"
      },
      "source": [
        "#@title Solución\n",
        "from math import inf\n",
        "\n",
        "cantidad_numeros = 0\n",
        "entrada_valida = False\n",
        "\n",
        "while not entrada_valida:\n",
        "  try:\n",
        "    cantidad_numeros = int(input(\"Ingrese la cantidad de números a leer: \"))\n",
        "\n",
        "    if cantidad_numeros >= 2:\n",
        "      entrada_valida = True\n",
        "    else:\n",
        "      print(\"Error: La serie debe contener al menos 2 números, por favor, intente de nuevo.\")\n",
        "  \n",
        "  except ValueError:\n",
        "      print(\"Error: El valor ingresado no es un número, por favor, intente de nuevo.\")\n",
        "\n",
        "minimo = inf\n",
        "numero_actual = 0\n",
        "\n",
        "for numero in range(0, cantidad_numeros):\n",
        "  numero_actual = int( input(f\"Ingrese el número {numero+1}: \") )\n",
        "  if numero_actual < minimo:\n",
        "    minimo = numero_actual\n",
        "\n",
        "print(f\"El mínimo de los números ingresados es: {minimo}\")\n"
      ],
      "execution_count": 1,
      "outputs": [
        {
          "output_type": "stream",
          "name": "stdout",
          "text": [
            "Ingrese la cantidad de números a leer: 5\n",
            "Ingrese el número 1: 2\n",
            "Ingrese el número 2: 5\n",
            "Ingrese el número 3: 9\n",
            "Ingrese el número 4: 6\n",
            "Ingrese el número 5: -20\n",
            "El mínimo de los números ingresados es: -20\n"
          ]
        }
      ]
    },
    {
      "cell_type": "markdown",
      "metadata": {
        "id": "6nRiyJeDT_Nd"
      },
      "source": [
        "##**Ejercicio 2: Palíndromo**\n",
        "---\n",
        "Un palíndromo es aquella palabra u oración que puede leerse al derecho y al revés de la misma manera. Observe los siguientes ejemplos de palíndromos:\n",
        "\n",
        "*   ojo\n",
        "*   ala\n",
        "*   radar\n",
        "*   reconocer\n",
        "*   F\n",
        "*   GG\n",
        "*   Yo hago yoga hoy\n",
        "*   Somos o no somos\n",
        "*   Ella te da detalle\n",
        "*   Luz azul\n",
        "*   Amad a la dama\n",
        "\n",
        "Implemente un programa que solicite una palabra u oración e imprima si es o no un palíndromo. \n"
      ]
    },
    {
      "cell_type": "code",
      "metadata": {
        "id": "YFi6j0X2Ud1I",
        "colab": {
          "base_uri": "https://localhost:8080/"
        },
        "cellView": "form",
        "outputId": "7944fa07-d548-4184-8649-6c71f2c757b9"
      },
      "source": [
        "#@title Solución\n",
        "texto = input(\"Ingrese una palabra u oración: \")\n",
        "texto_min = texto.lower().replace(\" \", \"\")\n",
        "\n",
        "es_palindromo = True\n",
        "indice1 = 0\n",
        "indice2 = len(texto_min)-1\n",
        "\n",
        "while indice1 < indice2 and es_palindromo:\n",
        "  if texto_min[indice1] == texto_min[indice2]:\n",
        "    es_palindromo = True\n",
        "  else:\n",
        "    es_palindromo = False\n",
        "  indice1 += 1\n",
        "  indice2 -= 1\n",
        "\n",
        "if es_palindromo:\n",
        "  print(f\"'{texto}' es palíndromo.\")\n",
        "else:\n",
        "  print(f\"'{texto}' no es palíndromo.\")"
      ],
      "execution_count": 2,
      "outputs": [
        {
          "output_type": "stream",
          "name": "stdout",
          "text": [
            "Ingrese una palabra u oración: amor roma\n",
            "'amor roma' es palíndromo.\n"
          ]
        }
      ]
    },
    {
      "cell_type": "markdown",
      "metadata": {
        "id": "Jj_qsCxq9TRv"
      },
      "source": [
        "##**Ejercicio 3: Primo** \n",
        "---\n",
        "Un número entero es primo si es mayor que uno y si solo es divisible entre 1 y entre sí mismo. Por ejemplo, el 7 es un número primo ya que es divisible por 1 y por sí mismo. Entonces, para saber si un número **n** es primo no puede ser divisible por ningún número entre 2 a n − 1. Implemente un programa que pida un\n",
        "número, y luego muestre si es primo o no."
      ]
    },
    {
      "cell_type": "code",
      "metadata": {
        "id": "1LpzkUWc9bzw",
        "colab": {
          "base_uri": "https://localhost:8080/"
        },
        "cellView": "form",
        "outputId": "4d8a8c5f-c80e-4904-eee7-1e4bb745e30a"
      },
      "source": [
        "#@title Solución\n",
        "numero = 0\n",
        "entrada_valida = False\n",
        "\n",
        "while not entrada_valida:\n",
        "  try:\n",
        "    numero = int( input(\"Ingrese un número: \") )\n",
        "    \n",
        "    if numero > 1:\n",
        "      entrada_valida = True\n",
        "    else:\n",
        "      print(\"Error: El número  ingresado no es mayor que 1, por favor, intente de nuevo.\")\n",
        "\n",
        "  except ValueError:\n",
        "      print(\"Error: El valor ingresado no es un número, por favor, intente de nuevo.\")\n",
        "\n",
        "es_primo = True\n",
        "for divisor in range(2, numero//2 + 1):\n",
        "  if numero % divisor == 0 and es_primo:\n",
        "    es_primo = False\n",
        "\n",
        "if es_primo:\n",
        "  print(f\"El número {numero} es primo.\")\n",
        "else:\n",
        "  print(f\"El número {numero} no es primo.\")"
      ],
      "execution_count": 3,
      "outputs": [
        {
          "output_type": "stream",
          "name": "stdout",
          "text": [
            "Ingrese un número: 51545\n",
            "El número 51545 no es primo.\n"
          ]
        }
      ]
    },
    {
      "cell_type": "markdown",
      "metadata": {
        "id": "pAU5_0YHojAx"
      },
      "source": [
        "## **Ejercicio 4: Patrón numérico** \n",
        "---\n",
        "Implemente un programa que solicite la cantidad de filas e imprima un patrón numérico. A continuación, se muestra el la impresión resultante al indicar 5 filas:\n",
        "\n",
        "5  4  3  2  1<br>\n",
        "4  3  2  1<br>\n",
        "3  2  1<br>\n",
        "2  1<br>\n",
        "1"
      ]
    },
    {
      "cell_type": "code",
      "metadata": {
        "id": "MVLfprnTojde",
        "colab": {
          "base_uri": "https://localhost:8080/"
        },
        "outputId": "39d624f8-0668-4744-9f8d-715461eac6dd",
        "cellView": "form"
      },
      "source": [
        "#@title Solución\n",
        "filas = 0\n",
        "\n",
        "entrada_valida = False\n",
        "while not entrada_valida:\n",
        "  try:\n",
        "    filas = int( input(\"Ingrese la cantidad de filas: \") )\n",
        "    if filas > 0:\n",
        "      entrada_valida = True\n",
        "    else:\n",
        "      print(\"Debe ingresar una cantidad de filas mayor que cero.\")\n",
        "  except:\n",
        "    print(\"Error: El valor ingresado no es un número, por favor,\"\n",
        "          \" intente de nuevo.\")\n",
        "\n",
        "for fila in range(0, filas + 1):\n",
        "    for columna in range(filas - fila, 0, -1):\n",
        "        print(columna, end=' ')\n",
        "    print()"
      ],
      "execution_count": 4,
      "outputs": [
        {
          "output_type": "stream",
          "name": "stdout",
          "text": [
            "Ingrese la cantidad de filas: 6\n",
            "6 5 4 3 2 1 \n",
            "5 4 3 2 1 \n",
            "4 3 2 1 \n",
            "3 2 1 \n",
            "2 1 \n",
            "1 \n",
            "\n"
          ]
        }
      ]
    }
  ]
}