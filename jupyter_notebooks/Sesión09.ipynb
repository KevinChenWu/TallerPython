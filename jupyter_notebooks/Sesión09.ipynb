{
  "nbformat": 4,
  "nbformat_minor": 0,
  "metadata": {
    "colab": {
      "name": "Sesión09.ipynb",
      "provenance": [],
      "collapsed_sections": [],
      "toc_visible": true
    },
    "kernelspec": {
      "name": "python3",
      "display_name": "Python 3"
    },
    "language_info": {
      "name": "python"
    }
  },
  "cells": [
    {
      "cell_type": "markdown",
      "metadata": {
        "id": "hRmgVUzmvcxk"
      },
      "source": [
        "#Sesión 9 de Python: Programación Orientada a Objetos\n",
        "\n",
        "![gato-sad.jpg](https://raw.githubusercontent.com/KevinChenWu/TallerPython/main/images/gato-sad.jpg)"
      ]
    },
    {
      "cell_type": "markdown",
      "metadata": {
        "id": "Ms7W8hmLvv73"
      },
      "source": [
        "## ***Programación Orientada a Objetos***\n",
        "\n",
        "La Programación Orientada a Objetos (POO) es un paradigma de programación, es decir, un modelo o un estilo de programación que da unas guías sobre cómo trabajar con él. Se basa en el concepto de clases y objetos. Este tipo de programación se utiliza para estructurar un programa de software en piezas simples y reutilizables de planos de código (clases) para crear instancias individuales de objetos. \n",
        "\n",
        "Con el paradigma de Programación Orientado a Objetos lo que se busca es dejar de centrarse en la lógica pura de los programas, para empezar a pensar en objetos, lo que constituye la base de este paradigma. Esto ayuda muchísimo en sistemas grandes, ya que en vez de pensar en funciones, se piensa en las relaciones o interacciones de los diferentes componentes del sistema.\n",
        "\n",
        "Un programador diseña un programa de software organizando piezas de información y comportamientos relacionados en una plantilla llamada clase. Luego, se crean objetos individuales a partir de la plantilla de clase. Todo el programa de software se ejecuta haciendo que varios objetos interactúen entre sí para crear un programa más grande.\n",
        "\n"
      ]
    },
    {
      "cell_type": "markdown",
      "metadata": {
        "id": "zc0DqUtHxDBF"
      },
      "source": [
        "### ***¿Por qué POO?***\n",
        "\n",
        "La Programación Orientada a objetos permite que el código sea reutilizable, organizado y fácil de mantener. Sigue el principio de desarrollo de software utilizado por muchos programadores DRY (Don’t Repeat Yourself), para evitar duplicar el código y crear de esta manera programas eficientes. Además, evita el acceso no deseado a los datos o la exposición de código propietario mediante la encapsulación y la abstracción, de la que se hablará en detalle más adelante."
      ]
    },
    {
      "cell_type": "markdown",
      "metadata": {
        "id": "M5DoCJbixk_X"
      },
      "source": [
        "## ***Clases, objetos e instancias***\n",
        "\n",
        "¿Cómo se crean los programas orientados a objetos? Resumiendo mucho, consistiría en hacer clases y crear objetos a partir de estas clases. Las clases forman el modelo a partir del que se estructuran los datos y los comportamientos.\n",
        "\n",
        "El primer y más importante concepto de la POO es la distinción entre clase y objeto.\n",
        "\n",
        "Una clase es una plantilla. Define de manera genérica cómo van a ser los objetos de un determinado tipo. Por ejemplo, una clase para representar a animales puede llamarse \"animal\" y tener una serie de atributos, como \"nombre\" o \"edad\" (que normalmente son propiedades), y una serie con los comportamientos que estos pueden tener, como caminar o comer, y que a su vez se implementan como métodos de la clase (funciones).\n",
        "\n",
        "Un ejemplo sencillo de un objeto, como se decía antes, podría ser un animal. Un animal tiene una edad, por lo que se crea un nuevo atributo de \"edad\" y, además, puede envejecer, por lo que se define un nuevo método. Datos y lógica. Esto es lo que se define en muchos programas como la definición de una clase, que es la definición global y genérica de muchos objetos."
      ]
    },
    {
      "cell_type": "markdown",
      "metadata": {
        "id": "2aVParVZx2Fw"
      },
      "source": [
        "![POO.jpg](https://raw.githubusercontent.com/KevinChenWu/TallerPython/main/images/POO.jpg)"
      ]
    },
    {
      "cell_type": "markdown",
      "metadata": {
        "id": "X1_8ie8hyOlL"
      },
      "source": [
        "Con la clase se pueden crear instancias de un objeto, cada uno de ellos con sus atributos definidos de forma independiente. Con esto se puede crear un gato llamado Paco, con 3 años de edad, y otro animal, este tipo perro y llamado Pancho, con una de edad de 4 años. Los dos están definidos por la clase animal, pero son dos instancias distintas. Por lo tanto, llamar a sus métodos puede tener resultados diferentes. Los dos comparten la lógica, pero cada uno tiene su estado de forma independiente.\n"
      ]
    },
    {
      "cell_type": "markdown",
      "metadata": {
        "id": "BqmnotSLzlc4"
      },
      "source": [
        "## ***POO en Python***\n",
        "\n",
        "En general, los objetos se pueden considerar como tipos de datos con características propias que también pueden tener funcionalidades propias. Por ejemplo, un variable tipo string es un objeto que tiene algunas propidades, como su longitud (len(str)) y al que se pueden aplicar funciones específicas, llamadas métodos, como str.title() o str.replace(). De forma similar se puede crear nuestros propios objetos con características (llamadas artributos) y métodos propios.\n",
        "\n"
      ]
    },
    {
      "cell_type": "code",
      "metadata": {
        "colab": {
          "base_uri": "https://localhost:8080/"
        },
        "id": "aGrZFELjnDal",
        "outputId": "35c9ec19-de29-4d13-8235-e09cf6363af6"
      },
      "source": [
        "class Star:\n",
        "    \"\"\"\n",
        "    Clase para estrellas\n",
        "\n",
        "    Ejemplo de clases con Python\n",
        "\n",
        "    Fichero: stars.py\n",
        "    \"\"\"\n",
        "\n",
        "    # Numero total de estrellas\n",
        "    num_stars = 0\n",
        "\n",
        "    def __init__(self, name):\n",
        "        self.name = name\n",
        "        Star.num_stars += 1\n",
        "\n",
        "    def set_mag(self, mag):\n",
        "        self.mag = mag\n",
        "\n",
        "    def set_par(self, par):\n",
        "        \"\"\"Asigna paralaje en segundos de arco\"\"\"\n",
        "        self.par = par\n",
        "\n",
        "    def get_mag(self):\n",
        "        print(\"La magnitud de {} de {}\".format(self.name, self.mag))\n",
        "\n",
        "    def get_dist(self):\n",
        "        \"\"\"Calcula la distancia en parsec a partir de la paralaje\"\"\"\n",
        "        print(\"La distacia de {} es  {:.2f} pc\".format(self.name, 1/self.par))\n",
        "\n",
        "    def get_stars_number(self):\n",
        "        print(\"Numero total de estrellas: {}\".format(Star.num_stars))\n",
        "\n",
        "\n",
        "\n",
        "\n",
        "# Creo una instancia de estrella\n",
        "altair = Star('Altair')\n",
        "\n",
        "altair.name\n",
        "# Devuelve 'Altair'\n",
        "\n",
        "altair.set_par(0.195)\n",
        "\n",
        "altair.get_stars_number()\n",
        "# Devuelve: Numero total de estrellas: 1\n",
        "\n",
        "altair.get_dist()\n",
        "# Devuelve: La distancia de Altair es  5.13 pc\n",
        "\n",
        "# Creo otra instancia de estrella\n",
        "otra = Star('Vega')\n",
        "\n",
        "otra.get_stars_number()\n",
        "# Devuelve: Numero total de estrellas: 2\n",
        "\n",
        "altair.get_stars_number()\n",
        "# Devuelve: Numero total de estrellas: 2\n"
      ],
      "execution_count": 1,
      "outputs": [
        {
          "output_type": "stream",
          "name": "stdout",
          "text": [
            "Numero total de estrellas: 1\n",
            "La distacia de Altair es  5.13 pc\n",
            "Numero total de estrellas: 2\n",
            "Numero total de estrellas: 2\n"
          ]
        }
      ]
    },
    {
      "cell_type": "markdown",
      "metadata": {
        "id": "x1jC-uBecRxa"
      },
      "source": [
        "### Herencia\n",
        "La herencia es una funcionalidad importante dentro de OOP que funciona para tenerm codigo mas flexible y reutilizable. Podemos crear una clase maestra que cubra caracterisicas basicas, y subclases que hereden estas caracteristicas y agreguen otras mas especificas."
      ]
    },
    {
      "cell_type": "code",
      "metadata": {
        "id": "_muIw2J3_yox",
        "colab": {
          "base_uri": "https://localhost:8080/"
        },
        "outputId": "42fdbf54-36d9-444a-f328-a4fe984b65eb"
      },
      "source": [
        "# Clase Padre\n",
        "class Person(object):\n",
        "  \n",
        "    # __init__  es el constructor\n",
        "    def __init__(self, name, idnumber):\n",
        "        self.name = name\n",
        "        self.idnumber = idnumber\n",
        "  \n",
        "    def display(self):\n",
        "        print(self.name)\n",
        "        print(self.idnumber)\n",
        "          \n",
        "    def details(self):\n",
        "        print(\"Mi nombre es {}\".format(self.name))\n",
        "        print(\"IdNumber: {}\".format(self.idnumber))\n",
        "      \n",
        "# Clase Hija\n",
        "class Employee(Person):\n",
        "    def __init__(self, name, idnumber, salary, post):\n",
        "        self.salary = salary\n",
        "        self.post = post\n",
        "  \n",
        "        # Se llama el init de la clase padre\n",
        "        Person.__init__(self, name, idnumber)\n",
        "          \n",
        "    def details(self):\n",
        "        print(\"Mi nombre es {}\".format(self.name))\n",
        "        print(\"IdNumber: {}\".format(self.idnumber))\n",
        "        print(\"Puesto: {}\".format(self.post))\n",
        "  \n",
        "  \n",
        "# Creamos un empleado\n",
        "a = Employee('Rahul', 886012, 200000, \"Pasante\")\n",
        "  \n",
        "# Llamamos el metodo display()\n",
        "a.display()\n",
        "a.details()\n"
      ],
      "execution_count": 2,
      "outputs": [
        {
          "output_type": "stream",
          "name": "stdout",
          "text": [
            "Rahul\n",
            "886012\n",
            "Mi nombre es Rahul\n",
            "IdNumber: 886012\n",
            "Puesto: Pasante\n"
          ]
        }
      ]
    },
    {
      "cell_type": "markdown",
      "metadata": {
        "id": "0DbprqCIdKG4"
      },
      "source": [
        "### Polimorfismo\n",
        "\n",
        "El polimorfismo es cuando se tiene una cosa con multiples funciones pero el mismo nombre. En el caso de OOP, un caso particular puede ser un metodo que tiene una salida para una clase, pero otra para una clase diferente."
      ]
    },
    {
      "cell_type": "code",
      "metadata": {
        "colab": {
          "base_uri": "https://localhost:8080/"
        },
        "id": "-ogFD2gkdNul",
        "outputId": "1638b226-c3bf-4cb7-de33-7e31d5772593"
      },
      "source": [
        "class Pajaro:\n",
        "    \n",
        "    def intro(self):\n",
        "        print(\"Hay muchas variedades de pajaro.\")\n",
        "  \n",
        "    def flight(self):\n",
        "        print(\"Muchos pajaros pueden volar, pero no todos.\")\n",
        "  \n",
        "class paloma(Pajaro):\n",
        "    \n",
        "    def flight(self):\n",
        "        print(\"Una paloma puede volar.\")\n",
        "  \n",
        "class avestruz(Pajaro):\n",
        "  \n",
        "    def flight(self):\n",
        "        print(\"Una avestruz no puede volar.\")\n",
        "  \n",
        "obj_bird = Pajaro()\n",
        "obj_spr = paloma()\n",
        "obj_ost = avestruz()\n",
        "  \n",
        "obj_bird.intro()\n",
        "obj_bird.flight()\n",
        "  \n",
        "obj_spr.intro()\n",
        "obj_spr.flight()\n",
        "  \n",
        "obj_ost.intro()\n",
        "obj_ost.flight()\n"
      ],
      "execution_count": 3,
      "outputs": [
        {
          "output_type": "stream",
          "name": "stdout",
          "text": [
            "Hay muchas variedades de pajaro.\n",
            "Muchos pajaros pueden volar, pero no todos.\n",
            "Hay muchas variedades de pajaro.\n",
            "Una paloma puede volar.\n",
            "Hay muchas variedades de pajaro.\n",
            "Una avestruz no puede volar.\n"
          ]
        }
      ]
    }
  ]
}